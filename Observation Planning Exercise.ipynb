{
 "cells": [
  {
   "cell_type": "markdown",
   "metadata": {},
   "source": [
    "# Observation Planning"
   ]
  },
  {
   "cell_type": "markdown",
   "metadata": {},
   "source": [
    "Questions to ask when planning a photometric observing session (\"run\"):\n",
    "\n",
    "1. __Where is my target?__\n",
    "2. __When can I observe my target?__\n",
    "3. __How do I know when I've found my target (make a finder chart)?__\n",
    "3. How long do I need to observe?\n",
    "4. How will I calibrate my data?"
   ]
  },
  {
   "cell_type": "markdown",
   "metadata": {},
   "source": [
    "## Where is my target? "
   ]
  },
  {
   "cell_type": "markdown",
   "metadata": {},
   "source": [
    "Let's pick a few exciting targets to look at.  These are gigantic evolved stars, Luminous Blue Variables and Yellow Hypergiants and Supergiants:\n",
    "\n",
    "1. P Cygni\n",
    "2. Rho Cassiopeia\n",
    "3. HD 168607\n",
    "4. Polaris"
   ]
  },
  {
   "cell_type": "markdown",
   "metadata": {},
   "source": [
    "To find where these sources are on the sky, we can query a few databases, including the SESAME name resolver service (http://cds.u-strasbg.fr/cgi-bin/Sesame) and the SIMBAD service.  We can do this using `astropy`, the main library for astronomical analysis.\n"
   ]
  },
  {
   "cell_type": "code",
   "execution_count": null,
   "metadata": {},
   "outputs": [],
   "source": [
    "from astropy import coordinates, units"
   ]
  },
  {
   "cell_type": "code",
   "execution_count": null,
   "metadata": {},
   "outputs": [],
   "source": [
    "# this uses SESAME\n",
    "pcyg_coord = coordinates.SkyCoord.from_name('P Cygni')\n",
    "pcyg_coord"
   ]
  },
  {
   "cell_type": "markdown",
   "metadata": {},
   "source": [
    "We can display this in other ways too:"
   ]
  },
  {
   "cell_type": "code",
   "execution_count": null,
   "metadata": {},
   "outputs": [],
   "source": [
    "pcyg_coord.to_string('hmsdms')"
   ]
  },
  {
   "cell_type": "markdown",
   "metadata": {},
   "source": [
    "The SIMBAD service gives us a little additional information:"
   ]
  },
  {
   "cell_type": "code",
   "execution_count": null,
   "metadata": {},
   "outputs": [],
   "source": [
    "from astroquery.simbad import Simbad"
   ]
  },
  {
   "cell_type": "code",
   "execution_count": null,
   "metadata": {},
   "outputs": [],
   "source": [
    "pcyg_simbad = Simbad.query_object('P Cygni')\n",
    "pcyg_simbad"
   ]
  },
  {
   "cell_type": "markdown",
   "metadata": {},
   "source": [
    "We'll just use SESAME for the others, though.  Fill in the SESAME approach for `rhocas` (Rho Cassiopeia), `hd168607` (HD 168607), and `polaris` (\"Polaris\"):\n",
    "\n",
    "(`coordinates.SkyCoord.from_name` uses SESAME to obtain the object's coordinates)"
   ]
  },
  {
   "cell_type": "code",
   "execution_count": null,
   "metadata": {},
   "outputs": [],
   "source": [
    "# replace this cell with your answer\n",
    "# the variable names should be those used in the next cell"
   ]
  },
  {
   "cell_type": "code",
   "execution_count": null,
   "metadata": {},
   "outputs": [],
   "source": [
    "print(pcyg_coord.to_string('hmsdms'))\n",
    "print(rhocas_coord.to_string('hmsdms'))\n",
    "print(hd168607_coord.to_string('hmsdms'))\n",
    "print(polaris_coord.to_string('hmsdms'))"
   ]
  },
  {
   "cell_type": "markdown",
   "metadata": {},
   "source": [
    "## When can I observe my target?"
   ]
  },
  {
   "cell_type": "markdown",
   "metadata": {},
   "source": [
    "Next, knowing where these are on the sky, we can ask what times of year they are up at night.\n",
    "\n",
    "We first have to define where _we_ are by setting the observatory location."
   ]
  },
  {
   "cell_type": "code",
   "execution_count": null,
   "metadata": {},
   "outputs": [],
   "source": [
    "from astroplan import Observer\n",
    "from astropy import units as u # shortcut"
   ]
  },
  {
   "cell_type": "code",
   "execution_count": null,
   "metadata": {},
   "outputs": [],
   "source": [
    "# sometimes we have to update the database; if that's necessary, a message will pop up telling us\n",
    "from astropy.utils import iers\n",
    "iers.conf.IERS_A_URL = 'ftp://cddis.gsfc.nasa.gov/pub/products/iers/finals2000A.all'\n",
    "iers.conf.IERS_A_URL_MIRROR = 'https://datacenter.iers.org/data/9/finals2000A.all'\n",
    "from astroplan import download_IERS_A\n",
    "download_IERS_A()"
   ]
  },
  {
   "cell_type": "code",
   "execution_count": null,
   "metadata": {},
   "outputs": [],
   "source": [
    "CTO = Observer(location=coordinates.EarthLocation(lat=29.643018, lon=-82.349004*u.deg, height=31*u.m),\n",
    "               timezone='EST',\n",
    "               name='University of Florida Campus Teaching Observatory',\n",
    "              )\n",
    "CTO"
   ]
  },
  {
   "cell_type": "markdown",
   "metadata": {},
   "source": [
    "Before we go on, we can use some information we already have in hand to determine approximately when we can observe these objects.  It is important to do this sort of qualitative 'sanity check' to ensure that the numbers coming from the computer are reasonable.\n",
    "\n",
    "The March equinox defines the zero-point of the Right Ascension coordinate, which means that 12h RA goes overhead at midnight (0h RA goes overhead at noon)."
   ]
  },
  {
   "cell_type": "markdown",
   "metadata": {},
   "source": [
    "There are 24 hours in a day and 12 months in a year.  By how many hours does the sky rotate each month?\n",
    "\n",
    "A: <your answer here>\n",
    "\n",
    "How many degrees?\n",
    "\n",
    "A: <your answer here>"
   ]
  },
  {
   "cell_type": "markdown",
   "metadata": {},
   "source": [
    "Given the above information, answer the following questions:"
   ]
  },
  {
   "cell_type": "markdown",
   "metadata": {},
   "source": [
    "1. What is the Right Ascension of the Sun in the March (vernal) equinox?\n",
    "\n",
    "A: <your answer here>"
   ]
  },
  {
   "cell_type": "markdown",
   "metadata": {},
   "source": [
    "2. What is the RA of the Sun at the September (autumnal) equinox?\n",
    "\n",
    "A: <your answer here>"
   ]
  },
  {
   "cell_type": "markdown",
   "metadata": {},
   "source": [
    "3. During what season or month do our targets reach zenith at midnight? (one answer per target)\n",
    "\n",
    "A:\n",
    "* P Cyg: \n",
    "* Rho Cas: \n",
    "* HD 168607: \n",
    "* Polaris: "
   ]
  },
  {
   "cell_type": "markdown",
   "metadata": {},
   "source": [
    "Having done these checks, we can proceed to get more precise answers.\n",
    "\n",
    "We create `target` objects to observe at different times."
   ]
  },
  {
   "cell_type": "code",
   "execution_count": null,
   "metadata": {},
   "outputs": [],
   "source": [
    "from astroplan import FixedTarget"
   ]
  },
  {
   "cell_type": "code",
   "execution_count": null,
   "metadata": {},
   "outputs": [],
   "source": [
    "pcyg_target = FixedTarget(pcyg_coord, name=\"P Cygni\")\n",
    "rhocas_target = FixedTarget(rhocas_coord, name=\"Rho Cas\")\n",
    "hd168607_target = FixedTarget(hd168607_coord, name=\"HD 168607\")\n",
    "polaris_target = FixedTarget(polaris_coord, name=\"Polaris\")\n",
    "pcyg_target, rhocas_target, hd168607_target, polaris_target"
   ]
  },
  {
   "cell_type": "markdown",
   "metadata": {},
   "source": [
    "To determine the observability of an object, we ask whether the object is \"up\" (in the sky, as opposed to underfoot), and whether it is night time.\n",
    "\n",
    "What time are you working on this notebook?  Is it night?  Are the target sources \"up\"?  (answer these before filling out the code)"
   ]
  },
  {
   "cell_type": "markdown",
   "metadata": {},
   "source": [
    "<your answer here>"
   ]
  },
  {
   "cell_type": "markdown",
   "metadata": {},
   "source": [
    "Since the answers to all of our questions depend on both the time of day and the time of year, we need to define our time."
   ]
  },
  {
   "cell_type": "code",
   "execution_count": null,
   "metadata": {},
   "outputs": [],
   "source": [
    "from astropy.time import Time"
   ]
  },
  {
   "cell_type": "code",
   "execution_count": null,
   "metadata": {},
   "outputs": [],
   "source": [
    "now = Time.now()\n",
    "now"
   ]
  },
  {
   "cell_type": "markdown",
   "metadata": {},
   "source": [
    "Are any of these sources \"up\"?"
   ]
  },
  {
   "cell_type": "code",
   "execution_count": null,
   "metadata": {},
   "outputs": [],
   "source": [
    "CTO.target_is_up(now, [pcyg_target, rhocas_target, hd168607_target, polaris_target])"
   ]
  },
  {
   "cell_type": "markdown",
   "metadata": {},
   "source": [
    "At least some are \"up\" at the time of writing.\n",
    "\n",
    "OK, but is it night?"
   ]
  },
  {
   "cell_type": "code",
   "execution_count": null,
   "metadata": {},
   "outputs": [],
   "source": [
    "CTO.is_night(now)"
   ]
  },
  {
   "cell_type": "markdown",
   "metadata": {},
   "source": [
    "For planning purposes, we care more about what the future holds and how we're going to schedule our time, so we want to know when sunrise and sunset are.  We use `now` to tell the software that we care about sunrise and sunset _today_; we can put in future days to find out how sunrise/sunset times change."
   ]
  },
  {
   "cell_type": "code",
   "execution_count": null,
   "metadata": {},
   "outputs": [],
   "source": [
    "CTO.sun_set_time(now), CTO.sun_rise_time(now)"
   ]
  },
  {
   "cell_type": "markdown",
   "metadata": {},
   "source": [
    "These aren't formatted in a very familiar way, so we can use a standard format - e.g., ISO, the International Standards Organization format - to show them more nicely:"
   ]
  },
  {
   "cell_type": "code",
   "execution_count": null,
   "metadata": {},
   "outputs": [],
   "source": [
    "CTO.sun_set_time(now).iso, CTO.sun_rise_time(now).iso"
   ]
  },
  {
   "cell_type": "markdown",
   "metadata": {},
   "source": [
    "Those times look a bit funny because they're in UTC, Universal Coordinated Time.\n",
    "\n",
    "Time zones are tricky, so we rely on libraries to help us with them."
   ]
  },
  {
   "cell_type": "code",
   "execution_count": null,
   "metadata": {},
   "outputs": [],
   "source": [
    "now.to_datetime(timezone=CTO.timezone).isoformat()"
   ]
  },
  {
   "cell_type": "markdown",
   "metadata": {},
   "source": [
    "That's a pretty verbose way to ask for and display this, so we can define a shortcut to get the time of day in the Eastern time zone:"
   ]
  },
  {
   "cell_type": "code",
   "execution_count": null,
   "metadata": {},
   "outputs": [],
   "source": [
    "def eastern(time):\n",
    "    est = time.to_datetime(timezone=CTO.timezone)\n",
    "    \n",
    "    return est.strftime('%H:%M:%S')"
   ]
  },
  {
   "cell_type": "code",
   "execution_count": null,
   "metadata": {},
   "outputs": [],
   "source": [
    "(eastern(CTO.sun_set_time(now)), eastern(CTO.sun_rise_time(now)))"
   ]
  },
  {
   "cell_type": "markdown",
   "metadata": {},
   "source": [
    "Now you can see that sunset is around 5:30 PM and sunrise is around 7:30 AM.  Note that we have set first, rise second, because we care about the interval between the sun going down and coming back up again, not the daytime."
   ]
  },
  {
   "cell_type": "markdown",
   "metadata": {},
   "source": [
    "We need to know the sun's rise and set time to avoid it, but we also can ask when our sources rise and set."
   ]
  },
  {
   "cell_type": "code",
   "execution_count": null,
   "metadata": {},
   "outputs": [],
   "source": [
    "(eastern(CTO.target_rise_time(time=now, target=pcyg_target)),\n",
    " eastern(CTO.target_set_time(time=now, target=pcyg_target)))"
   ]
  },
  {
   "cell_type": "code",
   "execution_count": null,
   "metadata": {},
   "outputs": [],
   "source": [
    "(eastern(CTO.target_rise_time(time=now, target=rhocas_target)),\n",
    " eastern(CTO.target_set_time(time=now, target=rhocas_target)))"
   ]
  },
  {
   "cell_type": "code",
   "execution_count": null,
   "metadata": {},
   "outputs": [],
   "source": [
    "(eastern(CTO.target_rise_time(time=now, target=hd168607_target)),\n",
    " eastern(CTO.target_set_time(time=now, target=hd168607_target)))"
   ]
  },
  {
   "cell_type": "code",
   "execution_count": null,
   "metadata": {},
   "outputs": [],
   "source": [
    "### Note: this will fail!  \"Comment it out\" and move on\n",
    "((CTO.target_rise_time(time=now, target=polaris_target)),\n",
    " (CTO.target_set_time(time=now, target=polaris_target)))"
   ]
  },
  {
   "cell_type": "markdown",
   "metadata": {},
   "source": [
    "What's going on with that last one?  Since Polaris is the North Star, it is always observable from any northern observatory.  It has no rise and set time!"
   ]
  },
  {
   "cell_type": "markdown",
   "metadata": {},
   "source": [
    "We can visualize the \"up time\" for the targets using an _airmass plot_, which plots the airmass versus time of night.\n",
    "\n",
    "[Airmass](https://en.wikipedia.org/wiki/Air_mass_(astronomy)) is the path length of air through which we're observing, and it is usually approximated as secant(zenith angle) and measured relative to zenith.\n",
    "\n",
    "\n",
    "1 airmass is straight up, and is the minimum amount of atmosphere through which you can observe."
   ]
  },
  {
   "cell_type": "markdown",
   "metadata": {},
   "source": [
    "Generally, it is best to observe at airmass < 2 when possible.  Airmass up to ~3 can be useful.  Beyond that, serious complications tend to arise."
   ]
  },
  {
   "cell_type": "code",
   "execution_count": null,
   "metadata": {},
   "outputs": [],
   "source": [
    "from astroplan.plots import plot_airmass \n",
    "import matplotlib.pyplot as plt \n",
    "\n",
    "plot_airmass([hd168607_target, pcyg_target, rhocas_target, polaris_target],\n",
    "             observer=CTO,\n",
    "             time=now,\n",
    "             brightness_shading=True)\n",
    "\n",
    "plt.legend(loc='best')\n",
    "plt.show() "
   ]
  },
  {
   "cell_type": "markdown",
   "metadata": {},
   "source": [
    "Note that the X-axis is in Universal Coordinated Time (UTC).  If you want the plots in local time, you can request that the local timezone be used (but only for certain versions of astroplan):"
   ]
  },
  {
   "cell_type": "code",
   "execution_count": null,
   "metadata": {},
   "outputs": [],
   "source": [
    "# if this fails, comment it out and continue\n",
    "plot_airmass([hd168607_target, pcyg_target, rhocas_target, polaris_target],\n",
    "             observer=CTO,\n",
    "             time=now.to_datetime(timezone=CTO.timezone),\n",
    "             use_local_tz=True,\n",
    "             brightness_shading=True)\n",
    "\n",
    "plt.legend(loc='best')\n",
    "plt.show() "
   ]
  },
  {
   "cell_type": "markdown",
   "metadata": {},
   "source": [
    "Answer some questions:\n",
    "\n",
    "Which sources are up at night?  For how long is each source observable at airmass $\\lesssim2$?  (Polaris is close enough to 2 to consider it observable)"
   ]
  },
  {
   "cell_type": "code",
   "execution_count": null,
   "metadata": {},
   "outputs": [],
   "source": []
  },
  {
   "cell_type": "markdown",
   "metadata": {},
   "source": [
    "## How do I know when I've found my target? Make a finder chart"
   ]
  },
  {
   "cell_type": "markdown",
   "metadata": {},
   "source": [
    "We need to know how to tell we're 'on target' when we've pointed our telescope at the right part of the sky.  With binoculars and other very wide field-of-view instruments, we can use known asterisms or constellations to navigate by, but with narrow field-of-view professional telescopes, we have to use fainter stars to aid our pointing."
   ]
  },
  {
   "cell_type": "markdown",
   "metadata": {},
   "source": [
    "We can obtain finder charts from the many public astronomical archives, like the Digitized Sky Survey, which carefully logged the whole sky in visible light images."
   ]
  },
  {
   "cell_type": "markdown",
   "metadata": {},
   "source": [
    "`astroplan` provides a means to obtain these images and plot them.  It uses `astroquery`, another library, to query the `SkyView` image cutout service."
   ]
  },
  {
   "cell_type": "code",
   "execution_count": null,
   "metadata": {},
   "outputs": [],
   "source": [
    "from astroplan.plots import plot_finder_image"
   ]
  },
  {
   "cell_type": "code",
   "execution_count": null,
   "metadata": {},
   "outputs": [],
   "source": [
    "ax, hdu = plot_finder_image(pcyg_target, survey='DSS', fov_radius=25*u.arcmin)"
   ]
  },
  {
   "cell_type": "code",
   "execution_count": null,
   "metadata": {},
   "outputs": [],
   "source": [
    "ax, hdu = plot_finder_image(polaris_target, survey='DSS', fov_radius=25*u.arcmin)"
   ]
  },
  {
   "cell_type": "code",
   "execution_count": null,
   "metadata": {},
   "outputs": [],
   "source": [
    "ax, hdu = plot_finder_image(rhocas_target, survey='DSS', fov_radius=25*u.arcmin)"
   ]
  },
  {
   "cell_type": "code",
   "execution_count": null,
   "metadata": {},
   "outputs": [],
   "source": [
    "ax, hdu = plot_finder_image(hd168607_target, survey='DSS', fov_radius=25*u.arcmin)"
   ]
  },
  {
   "cell_type": "markdown",
   "metadata": {},
   "source": [
    "You might notice these images come out a little smaller than you would like.  You can control the figure size using matplotlib commands:"
   ]
  },
  {
   "cell_type": "code",
   "execution_count": null,
   "metadata": {},
   "outputs": [],
   "source": [
    "import matplotlib.pyplot as pl"
   ]
  },
  {
   "cell_type": "code",
   "execution_count": null,
   "metadata": {},
   "outputs": [],
   "source": [
    "# specify the figure size in inches\n",
    "pl.figure(figsize=(15, 15))\n",
    "# a \"reticle\" is a set of crosshairs highlighting the target source\n",
    "ax, hdu = plot_finder_image(hd168607_target, survey='DSS', fov_radius=25*u.arcmin, reticle=True)"
   ]
  },
  {
   "cell_type": "markdown",
   "metadata": {},
   "source": [
    "## Planning for Clouds\n",
    "\n",
    "What if the night is cloudy?  For professional observations, we will often write off cloudy nights as a lost cause, but for this class, sometimes we need to find the holes in the clouds and observe whatever's there! \n",
    "\n",
    "We can enable this by making sky charts."
   ]
  },
  {
   "cell_type": "code",
   "execution_count": null,
   "metadata": {},
   "outputs": [],
   "source": [
    "from astroplan.plots import plot_sky"
   ]
  },
  {
   "cell_type": "code",
   "execution_count": null,
   "metadata": {},
   "outputs": [],
   "source": [
    "# first, let's find out where the objects are at sunset\n",
    "sunset = CTO.sun_set_time(now)\n",
    "# then, let's look 1 hour after sunset\n",
    "onehour_after_sunset = sunset + 1*u.hour\n",
    "twohours_after_sunset = sunset + 2*u.hour"
   ]
  },
  {
   "cell_type": "markdown",
   "metadata": {},
   "source": [
    "Note 1/16/2021: There is a bug in astroplan that will happen if you have matplotlib>=3.3.  \n",
    "\n",
    "\n",
    "Try the code below. If it fails with [this error](https://github.com/astropy/astroplan/issues/468) about \"`ValueError: The number of FixedLocator locations (8), usually from a call to set_ticks, does not match the number of ticklabels (7).`\", then do:\n",
    "\n",
    "`%pip install https://github.com/keflavich/astroplan/archive/fix_plot_sky.zip`\n",
    "\n",
    "in its own cell and then re-start the notebook and run all cells above this one.  You can do that with the \"Restart & Run All\" button in the \"Kernel\" menu above."
   ]
  },
  {
   "cell_type": "code",
   "execution_count": null,
   "metadata": {},
   "outputs": [],
   "source": [
    "targets = [hd168607_target, pcyg_target, rhocas_target, polaris_target]\n",
    "plot_sky(target=targets, observer=CTO, time=sunset)\n",
    "plot_sky(target=targets, observer=CTO, time=onehour_after_sunset)\n",
    "plot_sky(target=targets, observer=CTO, time=twohours_after_sunset)"
   ]
  },
  {
   "cell_type": "markdown",
   "metadata": {},
   "source": [
    "In the star chart, the colors represent different times.  One of the points only shows the final color (maybe you can see some others behind it).  Why isn't it moving?\n",
    "\n",
    "A:"
   ]
  },
  {
   "cell_type": "code",
   "execution_count": null,
   "metadata": {},
   "outputs": [],
   "source": []
  },
  {
   "cell_type": "markdown",
   "metadata": {},
   "source": [
    "# EXERCISE\n",
    "\n",
    "Create an altitude plot (showing the 'up time'), a sky chart, and a finder chart for each of the following sources:\n",
    "1. M33\n",
    "2. NGC 869\n",
    "3. Gamma Andromedae"
   ]
  }
 ],
 "metadata": {
  "kernelspec": {
   "display_name": "Python 3",
   "language": "python",
   "name": "python3"
  },
  "language_info": {
   "codemirror_mode": {
    "name": "ipython",
    "version": 3
   },
   "file_extension": ".py",
   "mimetype": "text/x-python",
   "name": "python",
   "nbconvert_exporter": "python",
   "pygments_lexer": "ipython3",
   "version": "3.7.6"
  }
 },
 "nbformat": 4,
 "nbformat_minor": 4
}
