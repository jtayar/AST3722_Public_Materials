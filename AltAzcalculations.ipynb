{
 "cells": [
  {
   "cell_type": "markdown",
   "metadata": {},
   "source": [
    "# Alt-Az coordinates of targets"
   ]
  },
  {
   "cell_type": "markdown",
   "metadata": {},
   "source": [
    "For some aspects of your observations, you need to have a record of the altitude and azimuth of the target.  \n",
    "\n",
    "Altitude and azimuth change over the course of the night, so we need to know exactly when we observed."
   ]
  },
  {
   "cell_type": "code",
   "execution_count": 1,
   "metadata": {},
   "outputs": [],
   "source": [
    "from astroplan import Observer\n",
    "from astropy import units as u, coordinates\n",
    "from astropy.time import Time"
   ]
  },
  {
   "cell_type": "markdown",
   "metadata": {},
   "source": [
    "Alt/Az are calculated relative to your location, so you have to define your location & time."
   ]
  },
  {
   "cell_type": "code",
   "execution_count": 2,
   "metadata": {},
   "outputs": [
    {
     "data": {
      "text/plain": [
       "<Observer: name='University of Florida Campus Teaching Observatory',\n",
       "    location (lon, lat, el)=(-82.349004 deg, 29.643018 deg, 30.99999999950558 m),\n",
       "    timezone=<DstTzInfo 'US/Eastern' LMT-1 day, 19:04:00 STD>>"
      ]
     },
     "execution_count": 2,
     "metadata": {},
     "output_type": "execute_result"
    }
   ],
   "source": [
    "CTO = Observer(location=coordinates.EarthLocation(lat=29.643018, lon=-82.349004*u.deg, height=31*u.m),\n",
    "               timezone='US/Eastern',\n",
    "               name='University of Florida Campus Teaching Observatory',\n",
    "              )\n",
    "CTO"
   ]
  },
  {
   "cell_type": "code",
   "execution_count": 3,
   "metadata": {},
   "outputs": [],
   "source": [
    "from astropy.coordinates import solar_system_ephemeris"
   ]
  },
  {
   "cell_type": "markdown",
   "metadata": {},
   "source": [
    "To get the locations of planets, we need to look up their sky location in _ephemeris_ tables."
   ]
  },
  {
   "cell_type": "code",
   "execution_count": 4,
   "metadata": {},
   "outputs": [
    {
     "data": {
      "text/plain": [
       "<SkyCoord (GCRS: obstime=2021-09-22 22:22:00.000, obsgeoloc=(-1441509.72866224, -5355598.25437908, 3139165.87604844) m, obsgeovel=(390.53953028, -105.59261984, -0.81076257) m / s): (ra, dec, distance) in (deg, deg, AU)\n",
       "    (325.82291399, -14.94773915, 4.17585717)>"
      ]
     },
     "execution_count": 4,
     "metadata": {},
     "output_type": "execute_result"
    }
   ],
   "source": [
    "obsdate = Time(\"2021-09-22 22:22\")\n",
    "with solar_system_ephemeris.set('builtin'):\n",
    "    jup = coordinates.get_body('jupiter', obsdate, CTO.location)\n",
    "jup"
   ]
  },
  {
   "cell_type": "code",
   "execution_count": 5,
   "metadata": {},
   "outputs": [
    {
     "data": {
      "text/plain": [
       "<SkyCoord (AltAz: obstime=2021-09-22 22:22:00.000, location=(738647.75510497, -5498571.21848642, 3136057.94056716) m, pressure=0.0 hPa, temperature=0.0 deg_C, relative_humidity=0.0, obswl=1.0 micron): (az, alt, distance) in (deg, deg, m)\n",
       "    (112.50656549, 8.46234486, 6.24699342e+11)>"
      ]
     },
     "execution_count": 5,
     "metadata": {},
     "output_type": "execute_result"
    }
   ],
   "source": [
    "altaz_frame = coordinates.AltAz(obstime=obsdate, location=CTO.location)\n",
    "jup.transform_to(altaz_frame)"
   ]
  },
  {
   "cell_type": "markdown",
   "metadata": {},
   "source": [
    "Other objects can be done a little more simply:"
   ]
  },
  {
   "cell_type": "code",
   "execution_count": 6,
   "metadata": {},
   "outputs": [
    {
     "data": {
      "text/plain": [
       "<SkyCoord (ICRS): (ra, dec) in deg\n",
       "    (250.423475, 36.46131944)>"
      ]
     },
     "execution_count": 6,
     "metadata": {},
     "output_type": "execute_result"
    }
   ],
   "source": [
    "m13_radec = coordinates.SkyCoord.from_name('M13')\n",
    "m13_radec"
   ]
  },
  {
   "cell_type": "code",
   "execution_count": 7,
   "metadata": {},
   "outputs": [
    {
     "data": {
      "text/plain": [
       "<SkyCoord (AltAz: obstime=2021-09-22 22:22:00.000, location=(738647.75510497, -5498571.21848642, 3136057.94056716) m, pressure=0.0 hPa, temperature=0.0 deg_C, relative_humidity=0.0, obswl=1.0 micron): (az, alt) in deg\n",
       "    (331.95392403, 82.22902597)>"
      ]
     },
     "execution_count": 7,
     "metadata": {},
     "output_type": "execute_result"
    }
   ],
   "source": [
    "altaz_m13 = m13_radec.transform_to(altaz_frame)\n",
    "altaz_m13"
   ]
  },
  {
   "cell_type": "markdown",
   "metadata": {},
   "source": [
    "You can access the alt or az individually:"
   ]
  },
  {
   "cell_type": "code",
   "execution_count": 8,
   "metadata": {},
   "outputs": [
    {
     "data": {
      "text/plain": [
       "(<Latitude 82.22902597 deg>, <Longitude 331.95392403 deg>)"
      ]
     },
     "execution_count": 8,
     "metadata": {},
     "output_type": "execute_result"
    }
   ],
   "source": [
    "altaz_m13.alt, altaz_m13.az"
   ]
  },
  {
   "cell_type": "code",
   "execution_count": null,
   "metadata": {},
   "outputs": [],
   "source": []
  }
 ],
 "metadata": {
  "kernelspec": {
   "display_name": "Python 3",
   "language": "python",
   "name": "python3"
  },
  "language_info": {
   "codemirror_mode": {
    "name": "ipython",
    "version": 3
   },
   "file_extension": ".py",
   "mimetype": "text/x-python",
   "name": "python",
   "nbconvert_exporter": "python",
   "pygments_lexer": "ipython3",
   "version": "3.8.5"
  }
 },
 "nbformat": 4,
 "nbformat_minor": 4
}
