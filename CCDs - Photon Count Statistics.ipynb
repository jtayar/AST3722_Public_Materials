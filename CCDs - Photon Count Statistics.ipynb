{
 "cells": [
  {
   "cell_type": "markdown",
   "metadata": {},
   "source": [
    "# CCD Reduction part 2 - Photon Statistics\n",
    "\n",
    "This notebook will guide you through calculations needed for the CCD characterization lab.\n",
    "\n",
    "Look for items labeled \"student exercise\" where you're supposed to fill in the blanks."
   ]
  },
  {
   "cell_type": "markdown",
   "metadata": {},
   "source": [
    "## Noise from photon counts\n",
    "\n",
    "How much noise would we expect the dark electrons to add?  "
   ]
  },
  {
   "cell_type": "markdown",
   "metadata": {},
   "source": [
    "First, recall how propagation of error works: the dark frames have two contributions to the noise-per-pixel, read noise and photon counting (Poisson) noise:"
   ]
  },
  {
   "cell_type": "markdown",
   "metadata": {},
   "source": [
    "$ \\sigma_{dark}^2 = \\sigma_{dark current}^2 + \\sigma_{read noise}^2$\n",
    "\n",
    "Then recall that dark current is a Poisson process, so $\\sigma_{dark current} = \\sqrt{\\lambda_{dark current}}$.\n",
    "\n",
    "For our 10s frames, we estimate that $\\lambda_{dark current} = \\mu_{dark} - \\mu_{bias} = $ *student exercise [this number should be your estimate of the dark current from the CCD Reduction Exercise Part 1]*,\n",
    "\n",
    "which suggests that the dark noise should be $\\sigma_{dark current} = \\sqrt{\\lambda_{dark current}} =$ *student exercise [answer this by filling out the cell below]*"
   ]
  },
  {
   "cell_type": "code",
   "execution_count": 1,
   "metadata": {},
   "outputs": [
    {
     "data": {
      "text/plain": [
       "3.7168687069679933"
      ]
     },
     "execution_count": 1,
     "metadata": {},
     "output_type": "execute_result"
    }
   ],
   "source": [
    "# student exercise\n",
    "mean_dark_current = 13.815112984837924 # copy this number from the previous notebook\n",
    "theoretical_dark_current_sigma = np.sqrt(mean_dark_current)\n",
    "theoretical_dark_current_sigma"
   ]
  },
  {
   "cell_type": "markdown",
   "metadata": {},
   "source": [
    "We have direct measurements of the noise, though.  We have measured $\\sigma_{dark} = $ `mean_dark_noise` = *student exercise 10.870688076255952*\n",
    "\n",
    "and $\\sigma_{read noise} = $ `mean_readnoise` = *student exercise 10.557842457849686*.  We can then solve for the dark current noise:\n",
    "\n",
    "$\\sigma_{dark current} = \\left(\\sigma^2_{dark} - \\sigma^2_{read noise}\\right)^{1/2}$"
   ]
  },
  {
   "cell_type": "code",
   "execution_count": 2,
   "metadata": {},
   "outputs": [
    {
     "data": {
      "text/plain": [
       "2.5891739776383953"
      ]
     },
     "execution_count": 2,
     "metadata": {},
     "output_type": "execute_result"
    }
   ],
   "source": [
    "mean_dark_noise = 10.870688076255952 # copy this number from the previous notebook\n",
    "mean_read_noise = 10.557842457849686 # copy this number from the previous notebook\n",
    "dark_current_sigma = (mean_dark_noise**2 - mean_read_noise**2)**0.5\n",
    "dark_current_sigma"
   ]
  },
  {
   "cell_type": "markdown",
   "metadata": {},
   "source": [
    "We can now see that the theoretical error from the observed dark current is higher than the measured value by:"
   ]
  },
  {
   "cell_type": "code",
   "execution_count": 3,
   "metadata": {},
   "outputs": [
    {
     "data": {
      "text/plain": [
       "1.4355422768299937"
      ]
     },
     "execution_count": 3,
     "metadata": {},
     "output_type": "execute_result"
    }
   ],
   "source": [
    "theoretical_dark_current_sigma / dark_current_sigma"
   ]
  },
  {
   "cell_type": "markdown",
   "metadata": {},
   "source": [
    "This difference occurs because of the CCD's _gain_.\n",
    "\n",
    "## Gain\n",
    "\n",
    "The CCD's reading device (analog-to-digital converter, ADC) has some gain, which gives the number of ADUs per electron (analog-digital unit, or \"arbitrary data unit\").\n",
    "\n",
    "$ G = \\frac{n_{ADU}}{n_{e^-}}$"
   ]
  },
  {
   "cell_type": "markdown",
   "metadata": {},
   "source": [
    "We can do some math to figure out what the gain is, then.\n",
    "\n",
    "For our detector, we have that the measured signal $S_{ADU}$ is going to be higher than the number of electrons by $G$, i.e.:\n",
    "\n",
    "$S_{ADU} = S_{electrons} G $"
   ]
  },
  {
   "cell_type": "markdown",
   "metadata": {},
   "source": [
    "Since the number of electrons follows counting (Poisson) statistics, we know that the standard deviation in electrons is:\n",
    "\n",
    "$\\sigma_{electrons} = S_{electrons}^{1/2}$\n",
    "\n"
   ]
  },
  {
   "cell_type": "markdown",
   "metadata": {},
   "source": [
    "which means that we expect the noise in ADUs to be\n",
    "\n",
    "$\\sigma_{ADU} = \\sigma_{electrons} G$"
   ]
  },
  {
   "cell_type": "markdown",
   "metadata": {},
   "source": [
    "### Proof\n",
    "\n",
    "You can prove this by using the propagation of error formula, $\\sigma_z^2 = (dz/dx)^2 \\sigma_x^2$."
   ]
  },
  {
   "cell_type": "markdown",
   "metadata": {},
   "source": [
    "Since $S_{ADU} = G S_{e^-}$, that means $dS_{ADU}/d_{e^-}=G$. \n",
    "\n",
    "Therefore, the error in ADU is:\n",
    "$$\\sigma_{ADU}^2 = \\frac{d S_{ADU}}{d S_{e^-}}^2 \\sigma_{e^-}^2 = G^2 \\sigma_{e^-}^2$$\n",
    "or\n",
    "$$\\sigma_{ADU} = G \\sigma_{e^-}$$\n"
   ]
  },
  {
   "cell_type": "markdown",
   "metadata": {},
   "source": [
    "### Find the Gain in terms of quantities we measured\n",
    "\n",
    "We can replace $\\sigma_{electrons}$ in the above equation with the square root of the number of electrons.\n",
    "\n",
    "We then obtain a relation between the signal in ADUs $S_{ADU}$, the noise $\\sigma_{ADU}$, and the gain $G$:\n",
    "\n",
    "$\\sigma_{ADU} = \\sigma_{electrons} G = S_{electrons}^{1/2} G = \\left(G S_{ADU}\\right)^{1/2} G = \\left(S_{ADU}  G\\right)^{1/2}$"
   ]
  },
  {
   "cell_type": "markdown",
   "metadata": {},
   "source": [
    "We can solve for the gain, since we can measure both $S_{ADU}$ and $\\sigma_{ADU}$ directly:\n",
    "\n",
    "$$G = \\frac{\\sigma^2_{ADU}}{S_{ADU}}$$"
   ]
  },
  {
   "cell_type": "markdown",
   "metadata": {},
   "source": [
    "We calculated above the dark current in ADUs and the standard deviation of the dark current in ADUs.  Put these together to compute the gain:"
   ]
  },
  {
   "cell_type": "code",
   "execution_count": 4,
   "metadata": {},
   "outputs": [
    {
     "data": {
      "text/plain": [
       "0.485252773092574"
      ]
     },
     "execution_count": 4,
     "metadata": {},
     "output_type": "execute_result"
    }
   ],
   "source": [
    "# student exercise\n",
    "gain = dark_current_sigma**2 / mean_dark_current\n",
    "gain"
   ]
  },
  {
   "cell_type": "markdown",
   "metadata": {},
   "source": [
    "You should get a gain value of 0.485252773092574"
   ]
  },
  {
   "cell_type": "markdown",
   "metadata": {},
   "source": [
    "That gain means that it takes approximately _two electrons_ to produce one ADU."
   ]
  },
  {
   "cell_type": "markdown",
   "metadata": {},
   "source": [
    "The gain is also reported in the FITS header, so we can check our work:"
   ]
  },
  {
   "cell_type": "code",
   "execution_count": 5,
   "metadata": {},
   "outputs": [
    {
     "data": {
      "text/plain": [
       "1.55"
      ]
     },
     "execution_count": 5,
     "metadata": {},
     "output_type": "execute_result"
    }
   ],
   "source": [
    "from astropy.io import fits\n",
    "header = fits.getheader('bias_001.FIT')\n",
    "header['EGAIN']"
   ]
  },
  {
   "cell_type": "markdown",
   "metadata": {},
   "source": [
    "Our recovered gain value does not agree with the header value.  We'll investigate this further later - maybe you will obtain a better estimate of the gain in the lab!"
   ]
  }
 ],
 "metadata": {
  "kernelspec": {
   "display_name": "Python 3",
   "language": "python",
   "name": "python3"
  },
  "language_info": {
   "codemirror_mode": {
    "name": "ipython",
    "version": 3
   },
   "file_extension": ".py",
   "mimetype": "text/x-python",
   "name": "python",
   "nbconvert_exporter": "python",
   "pygments_lexer": "ipython3",
   "version": "3.7.3"
  }
 },
 "nbformat": 4,
 "nbformat_minor": 4
}
