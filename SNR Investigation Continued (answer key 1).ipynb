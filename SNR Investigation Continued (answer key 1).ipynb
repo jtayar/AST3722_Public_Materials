{
 "cells": [
  {
   "cell_type": "markdown",
   "metadata": {},
   "source": [
    "# Signal-to-Noise Ratio"
   ]
  },
  {
   "cell_type": "markdown",
   "metadata": {},
   "source": [
    "We've seen that there are differences in taking a few vs. taking many exposures.  \n",
    "\n",
    "Let's investigate some practical examples."
   ]
  },
  {
   "cell_type": "markdown",
   "metadata": {},
   "source": [
    "Our CCDs have readnoise $\\sim10$ counts.\n",
    "\n",
    "They have relatively little dark current, $<1$ count/second."
   ]
  },
  {
   "cell_type": "markdown",
   "metadata": {},
   "source": [
    "## Case 1:\n",
    "\n",
    "We observe a moderately bright source that produces 100 counts/second/pixel for 30s.  What is our signal-to-noise ratio in 1 pixel in 1 exposure?"
   ]
  },
  {
   "cell_type": "code",
   "execution_count": 9,
   "metadata": {},
   "outputs": [
    {
     "name": "stdout",
     "output_type": "stream",
     "text": [
      "53.881590608032475\n"
     ]
    }
   ],
   "source": [
    "readnoise = 10\n",
    "signal = 30 * 100\n",
    "noise = (signal + readnoise**2)**0.5\n",
    "snr = signal/noise\n",
    "print(snr)"
   ]
  },
  {
   "cell_type": "markdown",
   "metadata": {},
   "source": [
    "Now say we take three exposures, each 30s, and _sum_ them.  "
   ]
  },
  {
   "cell_type": "code",
   "execution_count": 21,
   "metadata": {},
   "outputs": [
    {
     "name": "stdout",
     "output_type": "stream",
     "text": [
      "93.32565252573828\n"
     ]
    }
   ],
   "source": [
    "readnoise = 10\n",
    "signal_each = 30 * 100\n",
    "noise = (signal_each*3 + 3*readnoise**2)**0.5\n",
    "signal_sum = signal_each*3\n",
    "snr_30s= signal_sum/noise\n",
    "print(snr_30s)"
   ]
  },
  {
   "cell_type": "markdown",
   "metadata": {},
   "source": [
    "What if we _average_ them?"
   ]
  },
  {
   "cell_type": "code",
   "execution_count": 17,
   "metadata": {},
   "outputs": [
    {
     "name": "stdout",
     "output_type": "stream",
     "text": [
      "93.32565252573826\n"
     ]
    }
   ],
   "source": [
    "readnoise = 10\n",
    "signal_each = (30 * 100)\n",
    "noise = ((signal_each * 3 + 3 * readnoise**2))**0.5 / 3\n",
    "signal_mean = (signal_each * 3) / 3\n",
    "snr = signal_mean / (noise)\n",
    "print(snr)"
   ]
  },
  {
   "cell_type": "markdown",
   "metadata": {},
   "source": [
    "## Case 2\n",
    "\n",
    "Now we look at the same source but with 1s exposures.  What's the SNR in a single 1s exposure?"
   ]
  },
  {
   "cell_type": "code",
   "execution_count": 18,
   "metadata": {},
   "outputs": [
    {
     "name": "stdout",
     "output_type": "stream",
     "text": [
      "15.0\n"
     ]
    }
   ],
   "source": [
    "readnoise = 10\n",
    "signal = 3 * 100\n",
    "noise = (signal + readnoise**2)**0.5\n",
    "snr = signal/noise\n",
    "print(snr)"
   ]
  },
  {
   "cell_type": "markdown",
   "metadata": {},
   "source": [
    "How long do we have to integrate to get the same signal in 1s exposures as we got in 3 x 30s exposures?"
   ]
  },
  {
   "cell_type": "code",
   "execution_count": 19,
   "metadata": {},
   "outputs": [],
   "source": [
    "exptime = 90 # seconds"
   ]
  },
  {
   "cell_type": "markdown",
   "metadata": {},
   "source": [
    "If we sum those exposures, what's our SNR?"
   ]
  },
  {
   "cell_type": "code",
   "execution_count": 20,
   "metadata": {},
   "outputs": [
    {
     "name": "stdout",
     "output_type": "stream",
     "text": [
      "67.0820393249937\n"
     ]
    }
   ],
   "source": [
    "readnoise = 10\n",
    "signal_each = 1 * 100\n",
    "nexposures = 90\n",
    "noise = (signal_each*nexposures + nexposures*readnoise**2)**0.5\n",
    "signal_sum = signal_each*nexposures\n",
    "snr = signal_sum/noise\n",
    "print(snr)"
   ]
  },
  {
   "cell_type": "markdown",
   "metadata": {},
   "source": [
    "How many 1s exposures do we need to get to the same SNR as 3x30s exposures?"
   ]
  },
  {
   "cell_type": "markdown",
   "metadata": {},
   "source": [
    "$$SNR_{30s} = \\frac{\\Sigma_{N,30s} S_{30s}}{(\\Sigma_{N,30s} (S_{30s}+ \\sigma_{RN}^2))^{1/2}}$$\n",
    "$$SNR_{1s} = \\frac{\\Sigma_{N,1s} S_{1s}}{(\\Sigma_{N,1s} (S_{1s}+ \\sigma_{RN}^2))^{1/2}}$$\n"
   ]
  },
  {
   "cell_type": "markdown",
   "metadata": {},
   "source": [
    "We can solve for $N_{1s}$ by equating $SNR_{1s}=SNR_{30s}$\n",
    "\n",
    "$$SNR_{1s} = \\frac{\\Sigma_{N,1s} S_{1s}}{(\\Sigma_{N,1s} S_{1s} \\sigma_{RN}^2)^{1/2}} \n",
    "= \\frac{N_{1s} S_{1s}}{\\left(N_{1s} (S_{1s} + \\sigma_{RN}^2)\\right)^{1/2}} = N_{1s}^{1/2} \\frac{S_{1s}}{(S_{1s} + \\sigma_{RN}^2)^{1/2}}$$\n"
   ]
  },
  {
   "cell_type": "markdown",
   "metadata": {},
   "source": [
    "$$N_{1s} = \\frac{ SNR_{30s}^2 (S_{1s} + \\sigma_{RN}^2) }{S_{1s}^2}$$"
   ]
  },
  {
   "cell_type": "code",
   "execution_count": 22,
   "metadata": {},
   "outputs": [
    {
     "name": "stdout",
     "output_type": "stream",
     "text": [
      "174.19354838709677\n"
     ]
    }
   ],
   "source": [
    "signal_1s = 1 * 100\n",
    "nexp = snr_30s**2 * (signal_1s + readnoise**2) / signal_1s**2\n",
    "print(nexp)"
   ]
  },
  {
   "cell_type": "markdown",
   "metadata": {},
   "source": [
    "How much more time do you need to spend taking short exposures than long exposures (take both the difference and the ratio):"
   ]
  },
  {
   "cell_type": "code",
   "execution_count": 23,
   "metadata": {},
   "outputs": [
    {
     "name": "stdout",
     "output_type": "stream",
     "text": [
      "Ratio:  1.9354838709677418\n",
      "Difference:  84.19354838709677\n"
     ]
    }
   ],
   "source": [
    "print(\"Ratio: \",nexp * 1 / (3*30))\n",
    "print(\"Difference: \",nexp * 1 - 3*30)"
   ]
  },
  {
   "cell_type": "markdown",
   "metadata": {},
   "source": [
    "##  Case 3:\n",
    "\n",
    "Now that we've solved the above case, let's repeat it for different sources:\n",
    "\n",
    "(1) a faint source, 10 counts / second / pixel\n",
    "\n",
    "(2) a very bright source, 1000 counts/second/pixel"
   ]
  },
  {
   "cell_type": "markdown",
   "metadata": {},
   "source": [
    "For the faint source, what SNR do you achieve in 3x30s exposures?  How long do you need to spend with 1s exposures to get to the same SNRs? "
   ]
  },
  {
   "cell_type": "code",
   "execution_count": 24,
   "metadata": {},
   "outputs": [
    {
     "name": "stdout",
     "output_type": "stream",
     "text": [
      "25.980762113533157\n"
     ]
    }
   ],
   "source": [
    "signalrate = 10\n",
    "readnoise = 10\n",
    "signal_each = 30 * signalrate\n",
    "noise = (signal_each*3 + 3*readnoise**2)**0.5\n",
    "signal_sum = signal_each*3\n",
    "snr_30s= signal_sum/noise\n",
    "print(snr_30s)"
   ]
  },
  {
   "cell_type": "code",
   "execution_count": 25,
   "metadata": {},
   "outputs": [
    {
     "name": "stdout",
     "output_type": "stream",
     "text": [
      "742.4999999999999\n"
     ]
    }
   ],
   "source": [
    "signal_1s = 1 * signalrate\n",
    "nexp = snr_30s**2 * (signal_1s + readnoise**2) / signal_1s**2\n",
    "print(nexp)"
   ]
  },
  {
   "cell_type": "code",
   "execution_count": 26,
   "metadata": {},
   "outputs": [
    {
     "name": "stdout",
     "output_type": "stream",
     "text": [
      "Ratio:  8.249999999999998\n",
      "Difference:  652.4999999999999\n"
     ]
    }
   ],
   "source": [
    "print(\"Ratio: \",nexp * 1 / (3*30))\n",
    "print(\"Difference: \",nexp * 1 - 3*30)"
   ]
  },
  {
   "cell_type": "markdown",
   "metadata": {},
   "source": [
    "Now do that for the bright source:"
   ]
  },
  {
   "cell_type": "code",
   "execution_count": 27,
   "metadata": {},
   "outputs": [
    {
     "name": "stdout",
     "output_type": "stream",
     "text": [
      "299.5012465378748\n"
     ]
    }
   ],
   "source": [
    "signalrate = 1000\n",
    "readnoise = 10\n",
    "signal_each = 30 * signalrate\n",
    "noise = (signal_each*3 + 3*readnoise**2)**0.5\n",
    "signal_sum = signal_each*3\n",
    "snr_30s= signal_sum/noise\n",
    "print(snr_30s)"
   ]
  },
  {
   "cell_type": "code",
   "execution_count": 28,
   "metadata": {},
   "outputs": [
    {
     "name": "stdout",
     "output_type": "stream",
     "text": [
      "98.67109634551495\n"
     ]
    }
   ],
   "source": [
    "signal_1s = 1 * signalrate\n",
    "nexp = snr_30s**2 * (signal_1s + readnoise**2) / signal_1s**2\n",
    "print(nexp)"
   ]
  },
  {
   "cell_type": "code",
   "execution_count": 29,
   "metadata": {},
   "outputs": [
    {
     "name": "stdout",
     "output_type": "stream",
     "text": [
      "Ratio:  1.0963455149501662\n",
      "Difference:  8.671096345514954\n"
     ]
    }
   ],
   "source": [
    "print(\"Ratio: \",nexp * 1 / (3*30))\n",
    "print(\"Difference: \",nexp * 1 - 3*30)"
   ]
  },
  {
   "cell_type": "code",
   "execution_count": null,
   "metadata": {},
   "outputs": [],
   "source": []
  }
 ],
 "metadata": {
  "kernelspec": {
   "display_name": "Python 3",
   "language": "python",
   "name": "python3"
  },
  "language_info": {
   "codemirror_mode": {
    "name": "ipython",
    "version": 3
   },
   "file_extension": ".py",
   "mimetype": "text/x-python",
   "name": "python",
   "nbconvert_exporter": "python",
   "pygments_lexer": "ipython3",
   "version": "3.8.8"
  }
 },
 "nbformat": 4,
 "nbformat_minor": 4
}
