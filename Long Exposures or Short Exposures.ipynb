{
 "cells": [
  {
   "cell_type": "markdown",
   "metadata": {},
   "source": [
    "# Long or Short exposures, revisited"
   ]
  },
  {
   "cell_type": "markdown",
   "metadata": {},
   "source": [
    "You discussed the question, \"Which is better?  Many short exposures, or few long exposures?\""
   ]
  },
  {
   "cell_type": "markdown",
   "metadata": {},
   "source": [
    "There are many factors that go into answering that question, but we'll address some of them more rigorously here."
   ]
  },
  {
   "cell_type": "markdown",
   "metadata": {},
   "source": [
    "## Read noise\n",
    "\n",
    "\n",
    "Read noise is expected to be constant from one exposure to the next.\n",
    "\n",
    "This means that the degree of spread around your average measurement will stay constant.\n",
    "\n",
    "The _bias level_ will also be constant from one exposure to the next, which you've verified in lab.  The _bias level_ is a measured value - it's the lowest number a pixel can read on the CCD.  \n",
    "\n",
    "The _read noise_ is not a number you can read off of a pixel - you can only measure it by taking _multiple_ measurements."
   ]
  },
  {
   "cell_type": "markdown",
   "metadata": {},
   "source": [
    "Read noise is present in _every image_.   \n",
    "\n",
    "Let's say we have a constant readnoise $\\sigma_{RN}=5$.  The read noise in a single image is then $\\sigma_{RN}=5$.\n",
    "\n",
    "If you take the _sum_ of 3 images, what is the noise in the resulting image?\n",
    "\n",
    "Recall the sum propagation of error formula: $\\sigma_{z}^2 = \\sigma_{x}^2 + \\sigma_{y}^2$"
   ]
  },
  {
   "cell_type": "markdown",
   "metadata": {},
   "source": [
    "We can write the sum as:\n",
    "\n",
    "$S_{sum} = \\Sigma x_i = x_1 + x_2 + x_3$\n",
    "\n",
    "where the $x_i$ are each an image.\n",
    "\n",
    "What is the error on the sum, $\\sigma_{sum}$?"
   ]
  },
  {
   "cell_type": "markdown",
   "metadata": {},
   "source": [
    "-your answer, in equation form-"
   ]
  },
  {
   "cell_type": "markdown",
   "metadata": {},
   "source": [
    "What is the value?  "
   ]
  },
  {
   "cell_type": "code",
   "execution_count": null,
   "metadata": {},
   "outputs": [],
   "source": [
    "result = -your answer, in code form-"
   ]
  },
  {
   "cell_type": "markdown",
   "metadata": {},
   "source": [
    "The answer should be 8.66"
   ]
  },
  {
   "cell_type": "markdown",
   "metadata": {},
   "source": [
    "What if we add _ten_ images with $\\sigma_{RN}=5$?"
   ]
  },
  {
   "cell_type": "markdown",
   "metadata": {},
   "source": [
    "-your answer, in equation form-"
   ]
  },
  {
   "cell_type": "code",
   "execution_count": null,
   "metadata": {},
   "outputs": [],
   "source": [
    "result = -your answer, in code form-"
   ]
  },
  {
   "cell_type": "markdown",
   "metadata": {},
   "source": [
    "The answer should be 15.81"
   ]
  },
  {
   "cell_type": "markdown",
   "metadata": {},
   "source": [
    "In the above, you saw that the total noise increases as you add more images together."
   ]
  },
  {
   "cell_type": "markdown",
   "metadata": {},
   "source": [
    "We haven't talked about the signal yet!"
   ]
  },
  {
   "cell_type": "markdown",
   "metadata": {},
   "source": [
    "## Signal\n",
    "\n",
    "Let's re-evaluate the question: say we can choose between one exposure at 100s or 100 exposures each at 1s.\n",
    "\n",
    "Which is better?\n",
    "\n",
    "We will assume that we have a light source that produces one photon per second.\n",
    "\n",
    "The readnoise per image is $\\sigma_{RN}=5$."
   ]
  },
  {
   "cell_type": "markdown",
   "metadata": {},
   "source": [
    "How much signal do we expect in our 100s exposure?"
   ]
  },
  {
   "cell_type": "code",
   "execution_count": null,
   "metadata": {},
   "outputs": [],
   "source": [
    "-your answer (a number, or code)-"
   ]
  },
  {
   "cell_type": "markdown",
   "metadata": {},
   "source": [
    "What is the readnoise in our 100s exposure?"
   ]
  },
  {
   "cell_type": "code",
   "execution_count": null,
   "metadata": {},
   "outputs": [],
   "source": [
    "-your answer (a number, or code)-"
   ]
  },
  {
   "cell_type": "markdown",
   "metadata": {},
   "source": [
    "What is the signal-to-noise in our 100s exposure (accounting only for readnoise)?"
   ]
  },
  {
   "cell_type": "code",
   "execution_count": null,
   "metadata": {},
   "outputs": [],
   "source": [
    "-your answer (a number, or code)-"
   ]
  },
  {
   "cell_type": "markdown",
   "metadata": {},
   "source": [
    "If we add our 100x 1s exposures together, how much signal do we expect?"
   ]
  },
  {
   "cell_type": "code",
   "execution_count": null,
   "metadata": {},
   "outputs": [],
   "source": [
    "-your answer (a number, or code)-"
   ]
  },
  {
   "cell_type": "markdown",
   "metadata": {},
   "source": [
    "If we add our 100x 1s exposures together, how much noise do we expect?"
   ]
  },
  {
   "cell_type": "code",
   "execution_count": null,
   "metadata": {},
   "outputs": [],
   "source": [
    "-your answer (a number, or code)-"
   ]
  },
  {
   "cell_type": "markdown",
   "metadata": {},
   "source": [
    "What is the signal-to-noise in our sum of 100x1s exposures (accounting only for readnoise)?"
   ]
  },
  {
   "cell_type": "code",
   "execution_count": null,
   "metadata": {},
   "outputs": [],
   "source": [
    "-your answer (a number, or code)-"
   ]
  },
  {
   "cell_type": "markdown",
   "metadata": {},
   "source": [
    "So, when considering _only_ readnoise, which is better?  One long exposure, or many short exposures?"
   ]
  },
  {
   "cell_type": "markdown",
   "metadata": {},
   "source": [
    "-your answer-"
   ]
  },
  {
   "cell_type": "markdown",
   "metadata": {},
   "source": [
    "## Signal - with Poisson noise"
   ]
  },
  {
   "cell_type": "markdown",
   "metadata": {},
   "source": [
    "What about Poisson noise?  How does that change things?\n",
    "\n",
    "Remember that for counting things, $\\sigma = \\sqrt{\\lambda}$, the noise on a measurement is equal to the mean of that measurement."
   ]
  },
  {
   "cell_type": "markdown",
   "metadata": {},
   "source": [
    "In our 100s exposure, with a count rate of 1 photon per second, what is our expected Poisson noise level?"
   ]
  },
  {
   "cell_type": "code",
   "execution_count": null,
   "metadata": {},
   "outputs": [],
   "source": [
    "-your answer (a number, or code)-"
   ]
  },
  {
   "cell_type": "markdown",
   "metadata": {},
   "source": [
    "In our 1s exposures, what is the expected Poisson noise in each image?"
   ]
  },
  {
   "cell_type": "code",
   "execution_count": null,
   "metadata": {},
   "outputs": [],
   "source": [
    "-your answer (a number, or code)-"
   ]
  },
  {
   "cell_type": "markdown",
   "metadata": {},
   "source": [
    "When we sum up the 100 x 1s exposures, what is the expected Poisson noise?  Use the propagation of error formula from before"
   ]
  },
  {
   "cell_type": "code",
   "execution_count": null,
   "metadata": {},
   "outputs": [],
   "source": [
    "-your answer (a number, or code)-"
   ]
  },
  {
   "cell_type": "markdown",
   "metadata": {},
   "source": [
    "What can you conclude about the Poisson noise in a single long exposure vs. many short exposures?"
   ]
  },
  {
   "cell_type": "markdown",
   "metadata": {},
   "source": []
  },
  {
   "cell_type": "markdown",
   "metadata": {},
   "source": [
    "## Cosmic Rays\n",
    "\n",
    "Cosmic rays are energetic particles (mostly protons) moving at relativistic velocities.\n",
    "\n",
    "They occasionally hit part of the detector and knock off electrons.  Each cosmic ray can produce _many_ electrons, often spread over many pixels.\n",
    "\n",
    "They can leave streaks in the detector if they came in alongside it.  Cosmic rays will appear even when taking darks - some cosmic rays can penetrate solid materials.\n",
    "\n",
    "Cosmic rays are best thought of as an undesired source of signal rather than a source of noise.  While they are random (their location and energy is unpredictable), they are rare enough that most pixels in any observation will be unaffected by cosmic rays, and those pixels that are affected are often saturated."
   ]
  },
  {
   "cell_type": "markdown",
   "metadata": {},
   "source": [
    "One of the important steps in data reduction is removing cosmic rays.\n",
    "\n",
    "We generally do this by taking advantage of the fact that cosmic rays land in different places each time we take a new exposure."
   ]
  },
  {
   "cell_type": "markdown",
   "metadata": {},
   "source": [
    "## Cosmic Ray Exercise\n",
    "\n",
    "For this exercise, you're going to re-examine some of your data from Lab 3."
   ]
  },
  {
   "cell_type": "markdown",
   "metadata": {},
   "source": [
    "1. Locate your data.\n",
    "2. Calculate the _mean bias_ image.  "
   ]
  },
  {
   "cell_type": "code",
   "execution_count": null,
   "metadata": {},
   "outputs": [],
   "source": [
    "# put your import statements here (like 'from astropy import fits', and numpy, and pylab)"
   ]
  },
  {
   "cell_type": "code",
   "execution_count": null,
   "metadata": {},
   "outputs": [],
   "source": [
    "# use this cell to change directories (\"cd\") into your data directory if needed"
   ]
  },
  {
   "cell_type": "code",
   "execution_count": null,
   "metadata": {},
   "outputs": [],
   "source": [
    "mean_bias = # your code here (hopefully you can copy-paste this from your lab) "
   ]
  },
  {
   "cell_type": "markdown",
   "metadata": {},
   "source": [
    "3. Find your _longest_ dark exposure.  It should be >100s, probably 500-600s.  There should be at least three of them.  Load them up into a 3D array"
   ]
  },
  {
   "cell_type": "code",
   "execution_count": null,
   "metadata": {},
   "outputs": [],
   "source": [
    "longest_dark_image_timeseries = # your code here"
   ]
  },
  {
   "cell_type": "markdown",
   "metadata": {},
   "source": [
    "4. Show each of the three `longest_dark_timeseries` images.  Use an appropriate scaling with `simple_norm` (I suggest, e.g., `simple_norm(data, min_percent=1, max_percent=99.5)`))"
   ]
  },
  {
   "cell_type": "code",
   "execution_count": null,
   "metadata": {},
   "outputs": [],
   "source": [
    "# imshow commands, figure commands here (use new cells if needed)"
   ]
  },
  {
   "cell_type": "markdown",
   "metadata": {},
   "source": [
    "5. Subtract the _mean bias_ from your dark images.  This is your first step in data reduction and should be familiar."
   ]
  },
  {
   "cell_type": "code",
   "execution_count": null,
   "metadata": {},
   "outputs": [],
   "source": [
    "longest_dark_image_timeseries_biassubtracted = # your code here"
   ]
  },
  {
   "cell_type": "markdown",
   "metadata": {},
   "source": [
    "6. Show each of the three `longest_dark_timeseries_biassubtracted` images.  Use an appropriate scaling."
   ]
  },
  {
   "cell_type": "code",
   "execution_count": null,
   "metadata": {},
   "outputs": [],
   "source": [
    "# imshow commands, figure commands here (use new cells if needed)"
   ]
  },
  {
   "cell_type": "markdown",
   "metadata": {},
   "source": [
    "Comment on the images.  Are there hot pixels?  Did subtracting the bias get rid of the hot pixels?"
   ]
  },
  {
   "cell_type": "markdown",
   "metadata": {},
   "source": [
    "7. Calculated both the _mean_ and the _median_ of the `longest_dark_timeseries_biassubtracted` images and show them"
   ]
  },
  {
   "cell_type": "code",
   "execution_count": null,
   "metadata": {},
   "outputs": [],
   "source": [
    "mean_long_dark = # you can use np.mean(data, axis=0) or data.mean(axis=0)\n",
    "median_long_dark = # you must use np.median(data, axis=0)"
   ]
  },
  {
   "cell_type": "code",
   "execution_count": null,
   "metadata": {},
   "outputs": [],
   "source": [
    "# imshow commands, figure commands here (use new cells if needed)"
   ]
  },
  {
   "cell_type": "markdown",
   "metadata": {},
   "source": [
    "Comment on those images.  Which one looks better?  Can you tell?"
   ]
  },
  {
   "cell_type": "markdown",
   "metadata": {},
   "source": [
    "8. Subtract the _mean_ (i.e., `mean_long_dark`) from the first of your dark images, then show it.  Do the same for the _median_ (`median_long_dark`)."
   ]
  },
  {
   "cell_type": "code",
   "execution_count": null,
   "metadata": {},
   "outputs": [],
   "source": []
  },
  {
   "cell_type": "markdown",
   "metadata": {},
   "source": [
    "Again, comment on the above images.  Which looks better?   What do you see in each?"
   ]
  },
  {
   "cell_type": "markdown",
   "metadata": {},
   "source": [
    "9. Subtract the _median_ from each of the individual dark images.  Show them."
   ]
  },
  {
   "cell_type": "code",
   "execution_count": null,
   "metadata": {},
   "outputs": [],
   "source": [
    "dark1_medsub = # \"medsub\" is short for \"median-subtracted\"\n",
    "dark2_medsub = \n",
    "dark3_medsub = "
   ]
  },
  {
   "cell_type": "code",
   "execution_count": null,
   "metadata": {},
   "outputs": [],
   "source": []
  },
  {
   "cell_type": "markdown",
   "metadata": {},
   "source": [
    "You should see some \"leftovers\" in the above images.  They might look like stars.  They are cosmic ray hits!\n",
    "\n",
    "About how many are there?  Given your exposure time, how many cosmic ray hits do we expect per second (in the basement of Bryant)?"
   ]
  },
  {
   "cell_type": "markdown",
   "metadata": {},
   "source": [
    "- your answer - "
   ]
  },
  {
   "cell_type": "markdown",
   "metadata": {},
   "source": [
    "## Mean vs Median\n",
    "\n",
    "You've (hopefully) seen in the above that the _median_ does a good job of removing cosmic rays, while the _mean_ does not.  The median is a robust statistic - it works well in the presence of outliers.  We'll keep using it moving forward, and we'll discuss it more."
   ]
  },
  {
   "cell_type": "code",
   "execution_count": null,
   "metadata": {},
   "outputs": [],
   "source": []
  }
 ],
 "metadata": {
  "kernelspec": {
   "display_name": "Python 3",
   "language": "python",
   "name": "python3"
  },
  "language_info": {
   "codemirror_mode": {
    "name": "ipython",
    "version": 3
   },
   "file_extension": ".py",
   "mimetype": "text/x-python",
   "name": "python",
   "nbconvert_exporter": "python",
   "pygments_lexer": "ipython3",
   "version": "3.8.8"
  }
 },
 "nbformat": 4,
 "nbformat_minor": 4
}
