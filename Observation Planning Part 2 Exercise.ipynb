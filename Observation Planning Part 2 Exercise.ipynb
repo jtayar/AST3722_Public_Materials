{
 "cells": [
  {
   "cell_type": "markdown",
   "metadata": {},
   "source": [
    "# Observation Planning Part 2 - Sensitivity Calculation\n",
    "\n",
    "1. Where is my target?\n",
    "2. When can I observe my target?\n",
    "3. How do I know when I've found my target (make a finder chart)?\n",
    "4. __How long do I need to observe?__\n",
    "5. How will I calibrate my data?\n",
    "\n",
    "In Observation Planning part 1, we covered parts 1,2,3 above.  Now we'll cover the 4th part, calculating observation times."
   ]
  },
  {
   "cell_type": "markdown",
   "metadata": {},
   "source": [
    "First, a brief review:  For each of the following questions, give a brief explanation of what tools you use to answer the first three questions:\n",
    "\n",
    "(1) Where is my target?\n",
    "\n",
    "Your answer here\n",
    "\n",
    "(2) When can I observe my target?\n",
    "\n",
    "Your answer here\n",
    "\n",
    "(3) How do I know when I've found my target?\n",
    "\n",
    "\n",
    "Your answer here"
   ]
  },
  {
   "cell_type": "markdown",
   "metadata": {},
   "source": [
    "## How long do I need to observe my target?"
   ]
  },
  {
   "cell_type": "markdown",
   "metadata": {},
   "source": [
    "We know approximately how long we _can_ observe each target, but how long do we _need_ per source?  To answer this question, we need to do some sensitivity calculations.\n"
   ]
  },
  {
   "cell_type": "markdown",
   "metadata": {},
   "source": [
    "First, we determine how bright our target is.  You can only obtain this information for known sources, but generally, we can set a reasonable limit based off of physical considerations.  In other words, as long as we know what we're looking for, we can make a pretty good guess of how long we need to look."
   ]
  },
  {
   "cell_type": "markdown",
   "metadata": {},
   "source": [
    "Our observations will be performed in the visual, meaning we are interested in the source brightness in the R (red) and V (visual) filters."
   ]
  },
  {
   "cell_type": "markdown",
   "metadata": {},
   "source": [
    "We can use SIMBAD to look up the typical brightness of the target source in magnitudes.  You can go on the [SIMBAD website](http://simbad.u-strasbg.fr/simbad/) to see how this works, but astroquery can also do it, so we're going to use astroquery here.  The astroquery SIMBAD module tells you what \"fields\" (data column names) are available to query on for each source."
   ]
  },
  {
   "cell_type": "code",
   "execution_count": 3,
   "metadata": {},
   "outputs": [],
   "source": [
    "from astroquery.simbad import Simbad"
   ]
  },
  {
   "cell_type": "markdown",
   "metadata": {},
   "source": [
    "Recall from the previous workbook that we can use SIMBAD to retrieve information about stars, but the information included does not, by default, include the flux (or magnitude) of the source."
   ]
  },
  {
   "cell_type": "code",
   "execution_count": null,
   "metadata": {},
   "outputs": [],
   "source": [
    "pcyg_simbad = Simbad.query_object('P Cygni')\n",
    "pcyg_simbad"
   ]
  },
  {
   "cell_type": "code",
   "execution_count": null,
   "metadata": {},
   "outputs": [],
   "source": [
    "Simbad.list_votable_fields()"
   ]
  },
  {
   "cell_type": "markdown",
   "metadata": {},
   "source": [
    "We add the flux fields for the R and V filters, then we can see the two new columns added on the right:"
   ]
  },
  {
   "cell_type": "code",
   "execution_count": null,
   "metadata": {},
   "outputs": [],
   "source": [
    "Simbad.reset_votable_fields()\n",
    "Simbad.add_votable_fields('flux(R)', 'flux(V)')\n",
    "pcyg_simbad = Simbad.query_object('P Cygni')\n",
    "pcyg_simbad"
   ]
  },
  {
   "cell_type": "markdown",
   "metadata": {},
   "source": [
    "P Cygni is about 4.3 magnitudes in R.  What does that mean?"
   ]
  },
  {
   "cell_type": "markdown",
   "metadata": {},
   "source": [
    "## Magnitudes\n",
    "\n",
    "\n",
    "Magnitudes are a weird system with relative definitions.  The definition of magnitude is:\n",
    "\n",
    "$$ m = -2.5 \\log(F / F_0) $$\n",
    "\n",
    "$m$ is the observed (apparent) magnitude, $F$ is the source flux (in units of Jansky, ergs/cm$^2$/angstrom, W/m$^2$/angstrom, or erg/cm$^{2}$/Hz, usually), and $F_0$ is the flux at magnitude zero. \n",
    "\n",
    "__$F_0$ is a definition!__\n",
    "\n",
    "It was originally referenced to Vega, but more accurate observations have revealed that Vega is itself variable, so now the absolute standard is set by physical units.\n",
    "\n",
    "So, we have to look up $F_0$ or determine it ourselves.\n",
    "\n",
    "Note that each filter will have its own zero-point (also, terminology aside: the \"zero point of a filter\" and the \"photometric zero point\" are different things).  For example, for the visible $V$ band, we say:\n",
    "\n",
    "$$ m_V = -2.5 \\log(F_V / F_{0,V}) $$\n",
    "or for red:\n",
    "$$ m_R = -2.5 \\log(F_R / F_{0,R}) $$\n",
    "\n",
    "In the red filter, the zero-point is approximately 2500 Jy (which we just look up).  Therefore, we can compute the flux from P Cygni:\n",
    "\n",
    "$$ m_{P Cyg} = 4.3 = -2.5 \\log(F_{P Cyg} / 2500 \\mathrm{Jy}) $$\n",
    "\n",
    "Solve for $F_{P Cyg}$:\n",
    "\n",
    "$$ F_{P Cyg} = 10^{(-4.3/2.5)} \\times 2500 \\mathrm{Jy} $$"
   ]
  },
  {
   "cell_type": "code",
   "execution_count": 4,
   "metadata": {},
   "outputs": [],
   "source": [
    "from astropy import units as u\n",
    "from astropy import constants\n",
    "import numpy as np"
   ]
  },
  {
   "cell_type": "code",
   "execution_count": null,
   "metadata": {},
   "outputs": [],
   "source": [
    "F_PCyg = 10**(-4.3/2.5) * 2500*u.Jy\n",
    "F_PCyg"
   ]
  },
  {
   "cell_type": "markdown",
   "metadata": {},
   "source": [
    "This tells us the amount of energy received per area per unit frequency at the telescope.  Next, we need to compute the number of photons we'll collect."
   ]
  },
  {
   "cell_type": "markdown",
   "metadata": {},
   "source": [
    "1 Jansky is $10^{-23}$ ergs s$^{-1}$ cm$^{-2}$ Hz$^{-1}$ (https://en.wikipedia.org/wiki/Jansky)"
   ]
  },
  {
   "cell_type": "code",
   "execution_count": null,
   "metadata": {},
   "outputs": [],
   "source": [
    "(1*u.Jy).to(u.erg/u.s/u.cm**2/u.Hz)"
   ]
  },
  {
   "cell_type": "markdown",
   "metadata": {},
   "source": [
    "## Modeling the telescope"
   ]
  },
  {
   "cell_type": "markdown",
   "metadata": {},
   "source": [
    "We need to describe our instrument now.  Our telescope is a 14\" diameter telescope, so its area is (pi * (radius)$^2$).  An inch is 2.54 centimeters.  So, our collecting area is $A_{CTO 14\"}=$"
   ]
  },
  {
   "cell_type": "code",
   "execution_count": null,
   "metadata": {},
   "outputs": [],
   "source": [
    "# student answer here\n",
    "A_CTO = answer here\n",
    "A_CTO"
   ]
  },
  {
   "cell_type": "markdown",
   "metadata": {},
   "source": [
    "This should be 993.14666 cm$^2$"
   ]
  },
  {
   "cell_type": "markdown",
   "metadata": {},
   "source": [
    "## Modeling the Filter"
   ]
  },
  {
   "cell_type": "markdown",
   "metadata": {},
   "source": [
    "To determine how many photons we will receive, we need to know which wavelengths of photons are hitting the detector, and which ones are energetic enough to produce electrons through the photoelectric effect.\n",
    "\n",
    "We do this by putting a filter in front of the detector, which prevents longer- or shorter-wavelength (lower- or higher-energy) photons from getting through."
   ]
  },
  {
   "cell_type": "markdown",
   "metadata": {},
   "source": [
    "We will approximate that our red filter is $\\sim$1000 angstroms wide (in reality, there is a [wavelength-dependent filter function we could use](http://voservices.net/filter/), but we will take the simple approach for now).  The width of a filter is relative to the wavelength, and the red filter is centered at about 6500 angstroms.\n",
    "\n",
    "To convert a central wavelength from angstroms to Hertz, we use the definition $\\nu  \\lambda = c$, i.e., the frequency times the wavelength is the speed of light. "
   ]
  },
  {
   "cell_type": "markdown",
   "metadata": {},
   "source": [
    "For example, 100 microns ($\\mu$m) is at 3 THz.  Astropy's `constants.c` is the speed of light:"
   ]
  },
  {
   "cell_type": "code",
   "execution_count": null,
   "metadata": {},
   "outputs": [],
   "source": [
    "wavelength = 100*u.um\n",
    "frequency = constants.c  / wavelength\n",
    "frequency"
   ]
  },
  {
   "cell_type": "markdown",
   "metadata": {},
   "source": [
    "Note the units on that are something funky, $m \\mu^{-1} s^{-1}$.  You can use astropy's `.to` to convert to a specific unit, or `.decompose` to reduce to a minimal expressible unit.  For example:"
   ]
  },
  {
   "cell_type": "code",
   "execution_count": null,
   "metadata": {},
   "outputs": [],
   "source": [
    "print(\"Decomposed frequency: \", frequency.decompose())\n",
    "print(\"Frequency in THz: \", frequency.to(u.THz))"
   ]
  },
  {
   "cell_type": "markdown",
   "metadata": {},
   "source": [
    "So, returning to our red filter, for a wavelength $\\lambda = 6500$ angstroms, solve the equation $\\lambda \\nu = c$ for $\\nu$ in Hz or THz:"
   ]
  },
  {
   "cell_type": "code",
   "execution_count": null,
   "metadata": {},
   "outputs": [],
   "source": [
    "# student answer here\n",
    "nu = answer here\n",
    "nu"
   ]
  },
  {
   "cell_type": "markdown",
   "metadata": {},
   "source": [
    "Should be $4.6121917×10^{14}$ Hz"
   ]
  },
  {
   "cell_type": "markdown",
   "metadata": {},
   "source": [
    "The filter width is $\\Delta\\lambda / \\lambda$.  We have defined the width $\\Delta \\lambda = 1000$ angstroms, and the central wavelength is $\\lambda=6500$ angstroms.  The fractional width of the filter is the same in both units, i.e.:\n",
    "$$ \\frac{\\Delta\\lambda}{\\lambda} = \\frac{\\Delta\\nu}{\\nu} $$\n"
   ]
  },
  {
   "cell_type": "markdown",
   "metadata": {},
   "source": [
    "You solved for $\\nu$ above, so now determine $\\Delta \\nu$ (again, in Hz or THz)"
   ]
  },
  {
   "cell_type": "code",
   "execution_count": null,
   "metadata": {},
   "outputs": [],
   "source": [
    "# student answer here\n",
    "dlam = *u.AA\n",
    "lam = *u.AA # note we can't use the variable \"lambda\" because it's a reserved word in python\n",
    "dnu = answer here\n",
    "dnu"
   ]
  },
  {
   "cell_type": "markdown",
   "metadata": {},
   "source": [
    "Your answer should be $7.0956795×10^{13}$Hz"
   ]
  },
  {
   "cell_type": "markdown",
   "metadata": {},
   "source": [
    "We can convert our flux in Janskys to $10^{-23}$ ergs s$^{-1}$ cm$^{-2}$ Hz$^{-1}$, then multiply by the bandwidth in Hz and the collecting area in cm$^{2}$ to obtain the energy we will receive on the detector per second:\n",
    "\n",
    "$$ E_{rec} = F_{P Cyg} * A_{CTO 14\"} * \\Delta \\nu $$\n",
    "\n",
    "Compute $E_{rec}$ in units of erg $s^{-1}$ (`u.erg/u.s`):"
   ]
  },
  {
   "cell_type": "code",
   "execution_count": null,
   "metadata": {},
   "outputs": [],
   "source": [
    "# you should have these three variables defined already\n",
    "dnu, F_PCyg, A_CTO"
   ]
  },
  {
   "cell_type": "code",
   "execution_count": null,
   "metadata": {},
   "outputs": [],
   "source": [
    "# student answer here (in erg/s)\n",
    "E_rec = answer here\n",
    "E_rec<you need to convert units>"
   ]
  },
  {
   "cell_type": "markdown",
   "metadata": {},
   "source": [
    "Should be: $3.3569694×10^{−5}$ ergs / s"
   ]
  },
  {
   "cell_type": "markdown",
   "metadata": {},
   "source": [
    "The CCD detector responds to individual photons, so we need to count how many photons are coming in.  The average wavelegnth of a photon is 6500 angstroms (approximately).  We can compute the energy per photon using\n",
    "\n",
    "$$ E_{phot} = h \\nu$$\n",
    "\n",
    "where $h$ is [Planck's constant](https://en.wikipedia.org/wiki/Planck_constant).  Using the above information, compute the mean energy per photon."
   ]
  },
  {
   "cell_type": "markdown",
   "metadata": {},
   "source": [
    "(recall that frequency and wavelength are related as $c = \\nu / \\lambda$)"
   ]
  },
  {
   "cell_type": "code",
   "execution_count": null,
   "metadata": {},
   "outputs": [],
   "source": [
    "# student answer here (compute the anwer in both eV and erg)\n",
    "E_phot = <answer here>\n",
    "E_phot<in eV>, E_phot<in erg>"
   ]
  },
  {
   "cell_type": "markdown",
   "metadata": {},
   "source": [
    "You should obtain a number near 2 eV."
   ]
  },
  {
   "cell_type": "markdown",
   "metadata": {},
   "source": [
    "Given our energy received from the star $F_{E} =$ `E_rec` [erg/s] and the energy per photon $E_{phot}$ = `E_phot`[erg], how many photons are we receiving per second $F_{\\gamma}$?\n",
    "\n",
    "$F_{\\gamma} [\\mathrm{phot~s}^{-1}] = F_{E} / E_{phot}$"
   ]
  },
  {
   "cell_type": "code",
   "execution_count": null,
   "metadata": {},
   "outputs": [],
   "source": [
    "# student answer here (units (1/u.s))\n",
    "phot_per_s = answer here\n",
    "phot_per_s"
   ]
  },
  {
   "cell_type": "markdown",
   "metadata": {},
   "source": [
    "Answer should be: 10984594 s$^{-1}$"
   ]
  },
  {
   "cell_type": "markdown",
   "metadata": {},
   "source": [
    "CCD detectors saturate at approximately $2^{16} = 65536$ counts (though ours saturate at closer to 30,000).  Is the photon count greater than or less than this number? "
   ]
  },
  {
   "cell_type": "markdown",
   "metadata": {},
   "source": [
    "student answer"
   ]
  },
  {
   "cell_type": "markdown",
   "metadata": {},
   "source": [
    "If the above is greater than the saturation count, how many pixels do we need to spread the photons over if we want the image to stay below the saturation limit in a 1 second exposure?"
   ]
  },
  {
   "cell_type": "code",
   "execution_count": null,
   "metadata": {},
   "outputs": [],
   "source": [
    "# student answer\n",
    "npix = answer here\n",
    "npix"
   ]
  },
  {
   "cell_type": "markdown",
   "metadata": {},
   "source": [
    "The CCDs at CTO are ST-402 cameras.  They have 765x510 pixels over 6.9x4.3mm."
   ]
  },
  {
   "cell_type": "markdown",
   "metadata": {},
   "source": [
    "How big are the individual pixels, in microns? (should be about 9x9 microns)"
   ]
  },
  {
   "cell_type": "code",
   "execution_count": null,
   "metadata": {},
   "outputs": [],
   "source": [
    "# student answer: compute the pixel size in both dimensions\n",
    "answer here (there are two dimensions)"
   ]
  },
  {
   "cell_type": "markdown",
   "metadata": {},
   "source": [
    "By observing a pair of stars with known separation on the sky, we can determine what the _pixel scale_ of our CCD is.  \n",
    "\n",
    "However, for the purpose of this exercise, we will simply assume that the pixel scale is $\\approx0.5\"$ per pixel."
   ]
  },
  {
   "cell_type": "markdown",
   "metadata": {},
   "source": [
    "Over what radius circle does our star need to be projected to avoid saturating any pixels?"
   ]
  },
  {
   "cell_type": "markdown",
   "metadata": {},
   "source": [
    "We calculate this in two steps:  First, we know that the _area_ we need to project onto must be ~168 pixels.  What _radius_ circle has an area of 168 pixels?"
   ]
  },
  {
   "cell_type": "code",
   "execution_count": null,
   "metadata": {},
   "outputs": [],
   "source": [
    "# student answer\n",
    "radius_pixels = answer here\n",
    "radius_pixels"
   ]
  },
  {
   "cell_type": "markdown",
   "metadata": {},
   "source": [
    "Should be 7.3 pixels"
   ]
  },
  {
   "cell_type": "markdown",
   "metadata": {},
   "source": [
    "What does that size in pixels correspond to in arcseconds?"
   ]
  },
  {
   "cell_type": "code",
   "execution_count": null,
   "metadata": {},
   "outputs": [],
   "source": [
    "# the \"pixel scale\" is the number of arcseconds across a pixel,\n",
    "# so the units are \"arcseconds per pixel\",\n",
    "# but we leave the \"per pixel\" part implicit (otherwise the code gets confusing)\n",
    "pixel_scale = 0.5*u.arcsec"
   ]
  },
  {
   "cell_type": "code",
   "execution_count": null,
   "metadata": {},
   "outputs": [],
   "source": [
    "radius_pixels * pixel_scale"
   ]
  },
  {
   "cell_type": "markdown",
   "metadata": {},
   "source": [
    "Is the radius we need to smear the source over, i.e., the radius in arcseconds we just calculated above, bigger or smaller than the expected source size (the \"point spread function\") given the typical seeing conditions at CTO ($\\sim2\"$)?\n",
    "\n",
    "your answer here\n",
    "\n",
    "Given that answer, can we observe this target without saturating the CCD?  Justify your answer.\n",
    "\n",
    "your answer here"
   ]
  },
  {
   "cell_type": "markdown",
   "metadata": {},
   "source": [
    "## Integration Times\n",
    "\n",
    "In the above, we were simply determining whether the source would be above or below the saturation level of our CCDs.  Let's now determine how long we need to integrate to achieve a target signal to noise ratio."
   ]
  },
  {
   "cell_type": "markdown",
   "metadata": {},
   "source": [
    "We decide our integration time based on a target signal-to-noise ratio (SNR).  If our target SNR is 100, how long do we need to integrate?\n",
    "\n",
    "To a first approximation, we can assume that the signal-to-noise is limited by counting statistics.\n",
    "\n",
    "The signal $S$ rises as the count rate $\\dot{p}$ times the time,  $S = \\dot{p} t$.\n",
    "\n",
    "The noise $N$ is, in the Poisson noise limit, the square root of the signal (in photons), i.e., $N = \\sqrt{S} = \\sqrt{\\dot{p}t}$.  The SNR is therefore \n",
    "$$S/N = \\frac{\\dot{p} t}{\\sqrt{\\dot{p} t}} = \\sqrt{\\dot{p} t}$$"
   ]
  },
  {
   "cell_type": "markdown",
   "metadata": {},
   "source": [
    "## Warning / Note\n",
    "\n",
    "When we say that the uncertainty is the square root of the signal when counting photons, we have a bit of a units problem!\n",
    "\n",
    "$$ \\sigma = \\sqrt{\\lambda}$$\n",
    "\n",
    "The number of photons counted has units: number of photons.  The _uncertainty_ on that number has the same units, despite the fact that, naively, you would look at the above equation and say that the uncertainty has units of $\\sqrt{counts}$.\n",
    "\n",
    "You can't rely on the astropy unit system (or any automated unit system) to handle this equivalency; you need to take care to establish the correct units when dealing with uncertainties on counts."
   ]
  },
  {
   "cell_type": "markdown",
   "metadata": {},
   "source": [
    "We calculated the count rate above ($\\dot{p}$ = `phot_per_s`), so what integration time $t$ do we need for $SNR=100$ ?\n",
    "\n",
    "(solve the above equation, $SNR = \\sqrt{\\dot{p} t}$, for $t$)"
   ]
  },
  {
   "cell_type": "code",
   "execution_count": null,
   "metadata": {},
   "outputs": [],
   "source": [
    "# student answer (in seconds)\n",
    "integration_time = answer here (in seconds)\n",
    "integration_time"
   ]
  },
  {
   "cell_type": "markdown",
   "metadata": {},
   "source": [
    "You should note that that is a pretty short time! (about 0.9 milliseconds)"
   ]
  },
  {
   "cell_type": "markdown",
   "metadata": {},
   "source": [
    "What if we account for read noise?  Let's assume that we are averaging over a 2 arcsecond Gaussian PSF.  First, how many pixels is that?\n",
    "\n",
    "The area of a Gaussian isn't exactly that of a circle.  $A_{2D \\mathrm{Gaussian}} = 2 \\pi \\sigma^2$"
   ]
  },
  {
   "cell_type": "code",
   "execution_count": null,
   "metadata": {},
   "outputs": [],
   "source": [
    "psf_area = 2 * np.pi * (2*u.arcsec)**2\n",
    "psf_area"
   ]
  },
  {
   "cell_type": "code",
   "execution_count": null,
   "metadata": {},
   "outputs": [],
   "source": [
    "psf_area_pixels = psf_area * pixel_scale**-2\n",
    "psf_area_pixels"
   ]
  },
  {
   "cell_type": "markdown",
   "metadata": {},
   "source": [
    "Given that our readnoise is 10 counts per pixel, and we're interested in the _sum_ over these pixels, what is the expected contribution to the noise on the sum from these pixels?\n",
    "\n",
    "Remember the propagation of error formula for summation:\n",
    "$$sum = \\Sigma x_i$$\n",
    "$$\\sigma_{sum}^2 = \\Sigma_i \\sigma_i^2$$\n",
    "$$\\sigma_{sum} = \\sqrt{\\Sigma_i \\sigma_i^2}$$"
   ]
  },
  {
   "cell_type": "code",
   "execution_count": null,
   "metadata": {},
   "outputs": [],
   "source": [
    "# student answer\n",
    "readnoise_per_pix = 10*u.adu/u.pix\n",
    "readnoise_sum = answer here\n",
    "readnoise_sum"
   ]
  },
  {
   "cell_type": "markdown",
   "metadata": {},
   "source": [
    "By coincidence, that's about 100.265 ADU"
   ]
  },
  {
   "cell_type": "markdown",
   "metadata": {},
   "source": [
    "Given our calculation of the SNR and count noise above, what's our expected _total_ noise in the measurement over the PSF? (recall: the signal will be $t \\times \\dot{p}$, and we have calculated both of those quantities above)"
   ]
  },
  {
   "cell_type": "code",
   "execution_count": null,
   "metadata": {},
   "outputs": [],
   "source": [
    "# student answer (note: this value should be in the same units as the read noise above - you might have to add those units!)\n",
    "photon_noise = answer here\n",
    "photon_noise"
   ]
  },
  {
   "cell_type": "code",
   "execution_count": null,
   "metadata": {},
   "outputs": [],
   "source": [
    "# student answer\n",
    "total_noise = answer here\n",
    "total_noise"
   ]
  },
  {
   "cell_type": "markdown",
   "metadata": {},
   "source": [
    "Should be about sqrt(2) * 100"
   ]
  },
  {
   "cell_type": "markdown",
   "metadata": {},
   "source": [
    "Given that our noise is higher than we originally thought, we will not achieve our target signal to noise ratio if we use the `integration_time` above!  What will we achieve instead?"
   ]
  },
  {
   "cell_type": "code",
   "execution_count": null,
   "metadata": {},
   "outputs": [],
   "source": [
    "# student answer\n",
    "signal = answer here\n",
    "snr = answer here\n",
    "snr"
   ]
  },
  {
   "cell_type": "markdown",
   "metadata": {},
   "source": [
    "We can write down a different equation for the signal-to-noise ratio now that we know how much readnoise to expect for a stellar observation.\n",
    "\n",
    "We have just computed that our total noise is $N = {\\sqrt{\\dot{p} t + \\sigma_{rn}^2}}$, so our SNR is:\n",
    "\n",
    "$$S/N = \\frac{\\dot{p} t}{\\sqrt{\\dot{p} t + \\sigma_{rn}^2}} \\approx \\frac{\\dot{p} t}{\\sqrt{\\dot{p} t + 100}} $$"
   ]
  },
  {
   "cell_type": "markdown",
   "metadata": {},
   "source": [
    "This equation is no longer trivially solvable, but it can be rearranged nicely enough into a quadratic equation:\n",
    "$$SNR^2 \\left( \\dot{p} t + 100\\right) = \\left(\\dot{p}t\\right)^2$$ \n"
   ]
  },
  {
   "cell_type": "markdown",
   "metadata": {},
   "source": [
    "if we substitute $S = \\dot{p} t$, it looks a little simpler\n",
    "$$ S^2 - S \\cdot SNR^2  - 100 SNR^2 = 0$$\n",
    "then, we can use the quadratic formula to solve for the needed signal:\n",
    "$$S = SNR^2 \\pm \\frac{\\sqrt{SNR^4 + 400 SNR^2}}{2}$$"
   ]
  },
  {
   "cell_type": "code",
   "execution_count": null,
   "metadata": {},
   "outputs": [],
   "source": [
    "SNR = 100\n",
    "target_signal = SNR**2 + (SNR**4 + 4*readnoise_sum.value*SNR**2)**0.5 / 2\n",
    "target_signal"
   ]
  },
  {
   "cell_type": "code",
   "execution_count": null,
   "metadata": {},
   "outputs": [],
   "source": [
    "integration_time_including_readnoise = target_signal / phot_per_s\n",
    "integration_time_including_readnoise"
   ]
  },
  {
   "cell_type": "code",
   "execution_count": null,
   "metadata": {},
   "outputs": [],
   "source": [
    "# how much longer is that?\n",
    "integration_time_including_readnoise / integration_time"
   ]
  },
  {
   "cell_type": "markdown",
   "metadata": {},
   "source": [
    "So, accounting for readnoise, to get to the same SNR, we need to integrate for about twice as long (2.12x)."
   ]
  },
  {
   "cell_type": "markdown",
   "metadata": {},
   "source": [
    "## What would we need to be even more accurate in our prediction?\n",
    "\n",
    "Note that all of these calculations make a few assumptions that are generally not correct:\n",
    "\n",
    "1. We assumed the V-filter has a uniform transmission of 1 across its band.  In reality, the V-filter transmits closer to ~75% of the total band, so the total photon rate (in any given filter) is less than what we calculated above.\n",
    "\n",
    "2. We assumed that the CCD has perfect _quantum efficiency_.  The best CCDs have close to unity (one) efficiency, but not exactly.  Ours are probably in the 60-80% range.\n",
    "\n",
    "3. We assumed no flux losses to the atmosphere (absorption or scattering) or the telescope optics.  We know from class that the atmosphere absorbs anywhere from 10-30% of the incident flux if we point straight up on a clear night.\n",
    "\n",
    "Together these effects amount to a substantial loss of light.  Let's estimate how much:"
   ]
  },
  {
   "cell_type": "code",
   "execution_count": null,
   "metadata": {},
   "outputs": [],
   "source": [
    "filter_efficiency = 0.75\n",
    "quantum_efficiency = 0.7\n",
    "atmosphere_loss = 0.2\n",
    "received_fraction = filter_efficiency * quantum_efficiency * (1-atmosphere_loss)\n",
    "received_fraction"
   ]
  },
  {
   "cell_type": "markdown",
   "metadata": {},
   "source": [
    "We're getting less than 50% of the light recorded on our CCD.  That means we're liable to underestimate the brightness of our targets by a lot!  Next time, we'll go over how we account for that loss by _calibrating_."
   ]
  },
  {
   "cell_type": "markdown",
   "metadata": {},
   "source": [
    "## Do it yourself for a more reasonable target.\n",
    "\n",
    "We noted above that P Cygni is really hard to observe, since it will saturate our detector.\n",
    "\n",
    "Now, let's repeat the above exercises for a different target: `TYC 2788-108-1`"
   ]
  },
  {
   "cell_type": "markdown",
   "metadata": {},
   "source": [
    "Answer the following questions (using the code you learned above):"
   ]
  },
  {
   "cell_type": "markdown",
   "metadata": {},
   "source": [
    "1.  How bright is TYC 2788-108-1 in the [Johnson V-band](http://voservices.net/filter/filterdtls.aspx?filterid=60)?  Give your answer in magnitudes and in Janskys, assuming the zero-magnitude flux is 3500 Jy"
   ]
  },
  {
   "cell_type": "markdown",
   "metadata": {},
   "source": [
    "2. Using the same telescope as above, what is our expected received flux in ergs/second and in photons per second?  Assume the V-filter band width is 870 Angstroms and the band center is 5504 Angstroms."
   ]
  },
  {
   "cell_type": "markdown",
   "metadata": {},
   "source": [
    "3. How many photons per second per pixel will the star produce if the point spread function, the area over which the star's light is spread, is the same as above ($\\sigma_{Gaussian} = 2\"$)?  How long can we integrate without saturating (assuming we saturate at 30,000 counts)?"
   ]
  },
  {
   "cell_type": "markdown",
   "metadata": {},
   "source": [
    "4. Again following the same assumptions (the same spread among pixels, same readnoise), how long do we need to integrate to get to a signal-to-noise ratio of 100?  Account for both photon statistics and readnoise"
   ]
  }
 ],
 "metadata": {
  "kernelspec": {
   "display_name": "Python 3",
   "language": "python",
   "name": "python3"
  },
  "language_info": {
   "codemirror_mode": {
    "name": "ipython",
    "version": 3
   },
   "file_extension": ".py",
   "mimetype": "text/x-python",
   "name": "python",
   "nbconvert_exporter": "python",
   "pygments_lexer": "ipython3",
   "version": "3.8.8"
  }
 },
 "nbformat": 4,
 "nbformat_minor": 2
}
