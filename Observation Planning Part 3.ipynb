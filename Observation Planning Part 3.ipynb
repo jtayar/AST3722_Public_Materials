{
 "cells": [
  {
   "cell_type": "markdown",
   "metadata": {},
   "source": [
    "# Observation Planning Part 3\n",
    "\n",
    "\n",
    "1. Where is my target?\n",
    "2. When can I observe my target?\n",
    "3. How do I know when I've found my target (make a finder chart)?\n",
    "4. How long do I need to observe?\n",
    "5. __How will I calibrate my data?__\n"
   ]
  },
  {
   "cell_type": "markdown",
   "metadata": {},
   "source": [
    "## How will I calibrate my data?"
   ]
  },
  {
   "cell_type": "markdown",
   "metadata": {},
   "source": [
    "To make a photometric measurement, we need to know how efficient our instrument really is.  In theory, every photon collected in our telescope goes to the CCD and is converted to electrons, but in practice several factors prevent this.  What are the factors that limit our ability to collect the light?"
   ]
  },
  {
   "cell_type": "markdown",
   "metadata": {},
   "source": [
    "(student answer)\n",
    " * Quantum Efficiency of detector\n",
    " * Scattering off internal telescope elements\n",
    " * Atmospheric absorption & scattering"
   ]
  },
  {
   "cell_type": "markdown",
   "metadata": {},
   "source": [
    "To calibrate our image, we can use reference stars with known brightness to infer how much light is lost on the way to our image."
   ]
  },
  {
   "cell_type": "markdown",
   "metadata": {},
   "source": [
    "Landolt photometric standard stars are the best standards to use because they've been selected to be non-variable and have been carefully calibrated.  "
   ]
  },
  {
   "cell_type": "markdown",
   "metadata": {},
   "source": [
    "However, the AAVSO (American Association of Variable Star Observers) has provided some really nice tools for obtaining standard star locations:\n",
    "\n",
    "https://www.aavso.org/apps/vsd/stdfields"
   ]
  },
  {
   "cell_type": "markdown",
   "metadata": {},
   "source": [
    "We can also retrieve catalogs from Vizier, the Centre de Données astronomiques de Strasbourg services for catalogs."
   ]
  },
  {
   "cell_type": "code",
   "execution_count": 1,
   "metadata": {},
   "outputs": [],
   "source": [
    "from astroquery.vizier import Vizier"
   ]
  },
  {
   "cell_type": "markdown",
   "metadata": {},
   "source": [
    "You can use the `Vizier.get_catalogs` method in astroquery to grab the data from a catalog whose precise name you already know"
   ]
  },
  {
   "cell_type": "code",
   "execution_count": 2,
   "metadata": {},
   "outputs": [],
   "source": [
    "Vizier.ROW_LIMIT = 10000\n",
    "landolt_catalog = Vizier.get_catalogs('J/AJ/146/131/standards')"
   ]
  },
  {
   "cell_type": "markdown",
   "metadata": {},
   "source": [
    "Vizier actually returns a list of tables:"
   ]
  },
  {
   "cell_type": "code",
   "execution_count": 3,
   "metadata": {},
   "outputs": [
    {
     "data": {
      "text/plain": [
       "TableList with 1 tables:\n",
       "\t'0:J/AJ/146/131/standards' with 16 column(s) and 349 row(s) "
      ]
     },
     "execution_count": 3,
     "metadata": {},
     "output_type": "execute_result"
    }
   ],
   "source": [
    "landolt_catalog"
   ]
  },
  {
   "cell_type": "markdown",
   "metadata": {},
   "source": [
    "But we want to look at only the first of these:"
   ]
  },
  {
   "cell_type": "code",
   "execution_count": 4,
   "metadata": {},
   "outputs": [
    {
     "data": {
      "text/html": [
       "<i>Table length=349</i>\n",
       "<table id=\"table4814732816\" class=\"table-striped table-bordered table-condensed\">\n",
       "<thead><tr><th>Name</th><th>N</th><th>__Vmag_</th><th>__B-V_</th><th>__U-B_</th><th>__V-R_</th><th>__R-I_</th><th>__V-I_</th><th>No</th><th>Nn</th><th>RAJ2000</th><th>DEJ2000</th><th>_2MASS</th><th>pmRA</th><th>pmDE</th><th>SimbadName</th></tr></thead>\n",
       "<thead><tr><th></th><th></th><th>mag</th><th>mag</th><th>mag</th><th>mag</th><th>mag</th><th>mag</th><th></th><th></th><th>&quot;h:m:s&quot;</th><th>&quot;d:m:s&quot;</th><th></th><th>mas / yr</th><th>mas / yr</th><th></th></tr></thead>\n",
       "<thead><tr><th>bytes12</th><th>bytes1</th><th>float32</th><th>float32</th><th>float32</th><th>float32</th><th>float32</th><th>float32</th><th>int16</th><th>int16</th><th>bytes12</th><th>bytes12</th><th>bytes17</th><th>float32</th><th>float32</th><th>bytes23</th></tr></thead>\n",
       "<tr><td>GD 2B</td><td></td><td>13.279</td><td>0.588</td><td>-0.001</td><td>0.350</td><td>0.349</td><td>0.697</td><td>19</td><td>10</td><td>00 07 25.484</td><td>+33 19 00.17</td><td>J00072547+3319002</td><td>-9.6</td><td>-21.6</td><td>2MASS J00072547+3319002</td></tr>\n",
       "<tr><td>GD 2A</td><td></td><td>14.853</td><td>0.912</td><td>0.684</td><td>0.530</td><td>0.462</td><td>1.002</td><td>17</td><td>8</td><td>00 07 26.174</td><td>+33 18 19.18</td><td>J00072616+3318191</td><td>-17.3</td><td>-9.7</td><td>2MASS J00072616+3318191</td></tr>\n",
       "<tr><td>GD 2</td><td>N</td><td>13.802</td><td>-0.295</td><td>-1.192</td><td>-0.142</td><td>-0.171</td><td>-0.313</td><td>26</td><td>13</td><td>00 07 32.261</td><td>+33 17 27.62</td><td>J00073225+3317275</td><td>-78.1</td><td>-66.7</td><td>2MASS J00073225+3317275</td></tr>\n",
       "<tr><td>GD 2C</td><td></td><td>13.314</td><td>0.619</td><td>0.081</td><td>0.360</td><td>0.357</td><td>0.718</td><td>17</td><td>8</td><td>00 07 32.355</td><td>+33 20 14.69</td><td>J00073235+3320147</td><td>-4.5</td><td>1.8</td><td>2MASS J00073235+3320147</td></tr>\n",
       "<tr><td>GD 2E</td><td></td><td>15.188</td><td>0.575</td><td>0.076</td><td>0.339</td><td>0.323</td><td>0.652</td><td>7</td><td>4</td><td>00 07 36.675</td><td>+33 17 41.73</td><td>J00073667+3317418</td><td>6.1</td><td>-0.2</td><td>2MASS J00073667+3317418</td></tr>\n",
       "<tr><td>GD 2D</td><td></td><td>14.255</td><td>0.605</td><td>0.007</td><td>0.355</td><td>0.370</td><td>0.729</td><td>9</td><td>5</td><td>00 07 41.634</td><td>+33 17 57.33</td><td>J00074163+3317573</td><td>-7.5</td><td>-5.9</td><td>2MASS J00074163+3317573</td></tr>\n",
       "<tr><td>GD 410</td><td>N</td><td>12.845</td><td>0.725</td><td>0.086</td><td>0.441</td><td>0.438</td><td>0.879</td><td>1</td><td>1</td><td>00 35 24.704</td><td>+60 58 11.27</td><td>J00352470+6058113</td><td>109.1</td><td>42.1</td><td>2MASS J00352470+6058113</td></tr>\n",
       "<tr><td>GD 8C</td><td></td><td>13.299</td><td>0.636</td><td>0.140</td><td>0.371</td><td>0.358</td><td>0.724</td><td>14</td><td>7</td><td>00 39 37.145</td><td>+31 37 03.40</td><td>J00393714+3137034</td><td>-5.9</td><td>-11.5</td><td>2MASS J00393714+3137034</td></tr>\n",
       "<tr><td>GD 8A</td><td></td><td>14.593</td><td>0.695</td><td>0.199</td><td>0.400</td><td>0.378</td><td>0.780</td><td>17</td><td>9</td><td>00 39 40.965</td><td>+31 32 44.53</td><td>J00394096+3132445</td><td>-3.6</td><td>-10.7</td><td>2MASS J00394096+3132445</td></tr>\n",
       "<tr><td>...</td><td>...</td><td>...</td><td>...</td><td>...</td><td>...</td><td>...</td><td>...</td><td>...</td><td>...</td><td>...</td><td>...</td><td>...</td><td>...</td><td>...</td><td>...</td></tr>\n",
       "<tr><td>SA 103-646</td><td></td><td>12.444</td><td>0.717</td><td>0.219</td><td>0.394</td><td>0.373</td><td>0.766</td><td>4</td><td>2</td><td>11 57 20.329</td><td>-00 21 00.92</td><td>J11572032-0021010</td><td>-1.7</td><td>0.3</td><td>2MASS J11572032-0021010</td></tr>\n",
       "<tr><td>SA 107-970</td><td>N</td><td>10.926</td><td>1.605</td><td>1.799</td><td>1.181</td><td>1.458</td><td>2.638</td><td>7</td><td>7</td><td>15 37 25.829</td><td>+00 18 33.85</td><td>J15372582+0018339</td><td>-2.2</td><td>-1.9</td><td>2MASS J15372582+0018339</td></tr>\n",
       "<tr><td>SA 107-991</td><td></td><td>12.094</td><td>1.083</td><td>0.813</td><td>0.603</td><td>0.563</td><td>1.166</td><td>4</td><td>2</td><td>15 38 06.902</td><td>+00 16 19.31</td><td>J15380690+0016193</td><td>-11.2</td><td>-5.7</td><td>2MASS J15380690+0016193</td></tr>\n",
       "<tr><td>SA 107-847</td><td>N</td><td>10.245</td><td>1.074</td><td>0.830</td><td>0.575</td><td>0.526</td><td>1.102</td><td>4</td><td>2</td><td>15 38 19.398</td><td>+00 08 04.90</td><td>J15381938+0008049</td><td>-13.3</td><td>-6.0</td><td>2MASS J15381938+0008049</td></tr>\n",
       "<tr><td>SA 107-862</td><td></td><td>11.212</td><td>0.549</td><td>0.060</td><td>0.325</td><td>0.315</td><td>0.641</td><td>4</td><td>2</td><td>15 38 55.944</td><td>+00 09 48.13</td><td>J15385594+0009480</td><td>5.8</td><td>-0.5</td><td>2MASS J15385594+0009480</td></tr>\n",
       "<tr><td>SA 107-1014</td><td></td><td>12.117</td><td>0.545</td><td>0.014</td><td>0.334</td><td>0.337</td><td>0.671</td><td>4</td><td>2</td><td>15 38 59.016</td><td>+00 15 30.98</td><td>J15385901+0015310</td><td>-10.2</td><td>-11.8</td><td>2MASS J15385901+0015310</td></tr>\n",
       "<tr><td>SA 107-871</td><td></td><td>12.467</td><td>0.656</td><td>0.120</td><td>0.383</td><td>0.371</td><td>0.755</td><td>4</td><td>2</td><td>15 39 16.189</td><td>+00 08 54.53</td><td>J15391619+0008545</td><td>-14.3</td><td>11.5</td><td>2MASS J15391619+0008545</td></tr>\n",
       "<tr><td>SA 108-870</td><td></td><td>11.856</td><td>1.218</td><td>1.168</td><td>0.679</td><td>0.608</td><td>1.288</td><td>4</td><td>2</td><td>16 37 45.814</td><td>-00 28 23.75</td><td>J15391619+0008545</td><td>-13.4</td><td>2.3</td><td>2MASS J15391619+0008545</td></tr>\n",
       "<tr><td>SA 108-872</td><td></td><td>11.925</td><td>0.840</td><td>0.357</td><td>0.479</td><td>0.445</td><td>0.923</td><td>4</td><td>4</td><td>16 37 49.759</td><td>-00 22 18.99</td><td>J16374581-0028236</td><td>-8.1</td><td>-0.3</td><td>2MASS J16374581-0028236</td></tr>\n",
       "<tr><td>SA 108-570</td><td></td><td>12.122</td><td>0.531</td><td>0.087</td><td>0.321</td><td>0.319</td><td>0.640</td><td>4</td><td>2</td><td>16 38 04.824</td><td>-00 35 06.86</td><td>J16374976-0022189</td><td>-11.0</td><td>-22.8</td><td>2MASS J16374976-0022189</td></tr>\n",
       "</table>"
      ],
      "text/plain": [
       "<Table length=349>\n",
       "    Name      N    __Vmag_  __B-V_ ...   pmRA     pmDE          SimbadName      \n",
       "                     mag     mag   ... mas / yr mas / yr                        \n",
       "  bytes12   bytes1 float32 float32 ... float32  float32          bytes23        \n",
       "----------- ------ ------- ------- ... -------- -------- -----------------------\n",
       "      GD 2B         13.279   0.588 ...     -9.6    -21.6 2MASS J00072547+3319002\n",
       "      GD 2A         14.853   0.912 ...    -17.3     -9.7 2MASS J00072616+3318191\n",
       "       GD 2      N  13.802  -0.295 ...    -78.1    -66.7 2MASS J00073225+3317275\n",
       "      GD 2C         13.314   0.619 ...     -4.5      1.8 2MASS J00073235+3320147\n",
       "      GD 2E         15.188   0.575 ...      6.1     -0.2 2MASS J00073667+3317418\n",
       "      GD 2D         14.255   0.605 ...     -7.5     -5.9 2MASS J00074163+3317573\n",
       "     GD 410      N  12.845   0.725 ...    109.1     42.1 2MASS J00352470+6058113\n",
       "      GD 8C         13.299   0.636 ...     -5.9    -11.5 2MASS J00393714+3137034\n",
       "      GD 8A         14.593   0.695 ...     -3.6    -10.7 2MASS J00394096+3132445\n",
       "        ...    ...     ...     ... ...      ...      ...                     ...\n",
       " SA 103-646         12.444   0.717 ...     -1.7      0.3 2MASS J11572032-0021010\n",
       " SA 107-970      N  10.926   1.605 ...     -2.2     -1.9 2MASS J15372582+0018339\n",
       " SA 107-991         12.094   1.083 ...    -11.2     -5.7 2MASS J15380690+0016193\n",
       " SA 107-847      N  10.245   1.074 ...    -13.3     -6.0 2MASS J15381938+0008049\n",
       " SA 107-862         11.212   0.549 ...      5.8     -0.5 2MASS J15385594+0009480\n",
       "SA 107-1014         12.117   0.545 ...    -10.2    -11.8 2MASS J15385901+0015310\n",
       " SA 107-871         12.467   0.656 ...    -14.3     11.5 2MASS J15391619+0008545\n",
       " SA 108-870         11.856   1.218 ...    -13.4      2.3 2MASS J15391619+0008545\n",
       " SA 108-872         11.925   0.840 ...     -8.1     -0.3 2MASS J16374581-0028236\n",
       " SA 108-570         12.122   0.531 ...    -11.0    -22.8 2MASS J16374976-0022189"
      ]
     },
     "execution_count": 4,
     "metadata": {},
     "output_type": "execute_result"
    }
   ],
   "source": [
    "landolt_tbl = landolt_catalog[0]\n",
    "landolt_tbl"
   ]
  },
  {
   "cell_type": "markdown",
   "metadata": {},
   "source": [
    "The table above contains two columns that specify the RA and Dec coordinates, `RAJ2000` and `DEJ2000`.\n",
    "\n",
    "\n",
    "We'd like to be able to plot these and use them in some calculations below, so we'll turn them into `astropy.coordinates` objects.   Note that we need to do this because most software tools don't know how to read sexagesimal labels as numbers.  Anyway, the conversion process is easy:"
   ]
  },
  {
   "cell_type": "code",
   "execution_count": 5,
   "metadata": {},
   "outputs": [],
   "source": [
    "from astropy import coordinates, units as u"
   ]
  },
  {
   "cell_type": "code",
   "execution_count": 6,
   "metadata": {},
   "outputs": [],
   "source": [
    "landolt_coords = coordinates.SkyCoord(landolt_tbl['RAJ2000'], landolt_tbl['DEJ2000'], unit=(u.h, u.deg))"
   ]
  },
  {
   "cell_type": "markdown",
   "metadata": {},
   "source": [
    "We can visualize the _sky coverage_ of these standard stars in RA and Dec:"
   ]
  },
  {
   "cell_type": "code",
   "execution_count": 7,
   "metadata": {},
   "outputs": [],
   "source": [
    "import pylab as plt"
   ]
  },
  {
   "cell_type": "code",
   "execution_count": 8,
   "metadata": {},
   "outputs": [
    {
     "data": {
      "text/plain": [
       "Text(0, 0.5, 'Dec')"
      ]
     },
     "execution_count": 8,
     "metadata": {},
     "output_type": "execute_result"
    },
    {
     "data": {
      "image/png": "[encoded data removed]",
      "text/plain": [
       "<Figure size 432x288 with 1 Axes>"
      ]
     },
     "metadata": {
      "needs_background": "light"
     },
     "output_type": "display_data"
    }
   ],
   "source": [
    "plt.plot(landolt_coords.ra, landolt_coords.dec, 'o')\n",
    "plt.xlabel(\"RA\")\n",
    "plt.ylabel(\"Dec\")"
   ]
  },
  {
   "cell_type": "markdown",
   "metadata": {},
   "source": [
    "What if we want to figure out where these are in altitute and azimuth (alt/az) relative to us, the observer?  The Sky Plot feature from astroplan is good for that!  Of course, we need to specify the observatory first:"
   ]
  },
  {
   "cell_type": "code",
   "execution_count": 9,
   "metadata": {},
   "outputs": [
    {
     "name": "stderr",
     "output_type": "stream",
     "text": [
      "WARNING: OldEarthOrientationDataWarning: Your version of the IERS Bulletin A is 26.6 days old. For best precision (on the order of arcseconds), you must download an up-to-date IERS Bulletin A table. To do so, run:\n",
      "\n",
      ">>> from astroplan import download_IERS_A\n",
      ">>> download_IERS_A()\n",
      " [astroplan.utils]\n"
     ]
    }
   ],
   "source": [
    "from astroplan import Observer\n",
    "from astropy import units as u # shortcut\n",
    "CTO = Observer(location=coordinates.EarthLocation(lat=29.643018, lon=-82.349004*u.deg, height=31*u.m),\n",
    "               timezone='EST',\n",
    "               name='University of Florida Campus Teaching Observatory',\n",
    "              )"
   ]
  },
  {
   "cell_type": "code",
   "execution_count": 10,
   "metadata": {},
   "outputs": [],
   "source": [
    "from astroplan.plots import plot_sky\n",
    "from astropy.time import Time"
   ]
  },
  {
   "cell_type": "code",
   "execution_count": 11,
   "metadata": {},
   "outputs": [
    {
     "data": {
      "text/plain": [
       "<matplotlib.axes._subplots.PolarAxesSubplot at 0x12097ed10>"
      ]
     },
     "execution_count": 11,
     "metadata": {},
     "output_type": "execute_result"
    },
    {
     "data": {
      "image/png": "[encoded data removed]",
      "text/plain": [
       "<Figure size 432x288 with 1 Axes>"
      ]
     },
     "metadata": {
      "needs_background": "light"
     },
     "output_type": "display_data"
    }
   ],
   "source": [
    "plot_sky(target=landolt_coords, observer=CTO, time=Time('2020-02-11 18:00:00'))\n",
    "plot_sky(target=landolt_coords, observer=CTO, time=Time('2020-02-11 20:00:00'))\n",
    "plot_sky(target=landolt_coords, observer=CTO, time=Time('2020-02-11 22:00:00'))"
   ]
  },
  {
   "cell_type": "markdown",
   "metadata": {},
   "source": [
    "There are a lot of targets that go straight overhead!  There aren't so many in the South, but that's because we picked a standard star catalog that is meant for the north; if we wanted stars further south, we could use [\"II/183A/table2\"](http://vizier.u-strasbg.fr/viz-bin/VizieR-3?-source=II/183A/table2) instead."
   ]
  },
  {
   "cell_type": "markdown",
   "metadata": {},
   "source": [
    "Let's say we want to observe P Cygni.  How do we find the closest standard(s)?"
   ]
  },
  {
   "cell_type": "markdown",
   "metadata": {},
   "source": [
    "First, we can simply overplot it on our RA/Dec plot"
   ]
  },
  {
   "cell_type": "code",
   "execution_count": 12,
   "metadata": {},
   "outputs": [],
   "source": [
    "pcyg_coord = coordinates.SkyCoord.from_name('P Cygni')"
   ]
  },
  {
   "cell_type": "code",
   "execution_count": 13,
   "metadata": {},
   "outputs": [
    {
     "data": {
      "text/plain": [
       "Text(0, 0.5, 'Dec')"
      ]
     },
     "execution_count": 13,
     "metadata": {},
     "output_type": "execute_result"
    },
    {
     "data": {
      "image/png": "[encoded data removed]",
      "text/plain": [
       "<Figure size 432x288 with 1 Axes>"
      ]
     },
     "metadata": {
      "needs_background": "light"
     },
     "output_type": "display_data"
    }
   ],
   "source": [
    "plt.plot(landolt_coords.ra, landolt_coords.dec, 'o')\n",
    "plt.plot(pcyg_coord.ra, pcyg_coord.dec, 's')\n",
    "plt.xlabel(\"RA\")\n",
    "plt.ylabel(\"Dec\")"
   ]
  },
  {
   "cell_type": "markdown",
   "metadata": {},
   "source": [
    "How can we figure out which calibrator source from the catalog is the closest one?\n",
    "\n",
    "We can calculate the distance between P Cygni and each of the stars in the Landolt catalog.  That distance is the _angular separation_ on the sphere:\n",
    "$$\\theta = \\cos^{-1} \\left[ \\sin(\\delta_1) \\sin(\\delta_2) + \\cos(\\delta_1) \\cos(\\delta_2) \\cos(\\alpha_1 - \\alpha_2) \\right]$$\n",
    "\n",
    "In practice, you don't want to do this yourself, as there can be numerical issues when calculating these values near the poles (see the article on [Great Circle distances](https://en.wikipedia.org/wiki/Great-circle_distance)).  Thankfully, astropy's coordinates provide a `separation` tool to calculate this for us.\n",
    "\n"
   ]
  },
  {
   "cell_type": "code",
   "execution_count": 14,
   "metadata": {},
   "outputs": [],
   "source": [
    "distances_from_pcyg_to_standards = pcyg_coord.separation(landolt_coords)"
   ]
  },
  {
   "cell_type": "markdown",
   "metadata": {},
   "source": [
    "We can then find which of these is closest by taking the minimum:"
   ]
  },
  {
   "cell_type": "code",
   "execution_count": 15,
   "metadata": {},
   "outputs": [
    {
     "data": {
      "text/latex": [
       "$2^\\circ37{}^\\prime43.7412{}^{\\prime\\prime}$"
      ],
      "text/plain": [
       "<Angle 2.62881701 deg>"
      ]
     },
     "execution_count": 15,
     "metadata": {},
     "output_type": "execute_result"
    }
   ],
   "source": [
    "np.min(distances_from_pcyg_to_standards)"
   ]
  },
  {
   "cell_type": "markdown",
   "metadata": {},
   "source": [
    "The closest standard star is about 2 degrees away.  Which star is it, though?  We can use `np.argmin` to obtain the index corresponding to that minimum value."
   ]
  },
  {
   "cell_type": "code",
   "execution_count": 16,
   "metadata": {},
   "outputs": [
    {
     "data": {
      "text/plain": [
       "(305, <SkyCoord (ICRS): (ra, dec) in deg\n",
       "     (307.40492917, 39.28821667)>)"
      ]
     },
     "execution_count": 16,
     "metadata": {},
     "output_type": "execute_result"
    }
   ],
   "source": [
    "index = np.argmin(distances_from_pcyg_to_standards)\n",
    "index, landolt_coords[index]"
   ]
  },
  {
   "cell_type": "markdown",
   "metadata": {},
   "source": [
    "So now we have its location.  Can we find out more about the star, like its name and brightness?\n",
    "\n",
    "Since `landolt_coords` has the same length and order as the `landolt_table` above, yes!  We can use the same index:"
   ]
  },
  {
   "cell_type": "code",
   "execution_count": 17,
   "metadata": {},
   "outputs": [
    {
     "data": {
      "text/html": [
       "<i>Row index=305</i>\n",
       "<table id=\"table4814732816\">\n",
       "<thead><tr><th>Name</th><th>N</th><th>__Vmag_</th><th>__B-V_</th><th>__U-B_</th><th>__V-R_</th><th>__R-I_</th><th>__V-I_</th><th>No</th><th>Nn</th><th>RAJ2000</th><th>DEJ2000</th><th>_2MASS</th><th>pmRA</th><th>pmDE</th><th>SimbadName</th></tr></thead>\n",
       "<thead><tr><th></th><th></th><th>mag</th><th>mag</th><th>mag</th><th>mag</th><th>mag</th><th>mag</th><th></th><th></th><th>&quot;h:m:s&quot;</th><th>&quot;d:m:s&quot;</th><th></th><th>mas / yr</th><th>mas / yr</th><th></th></tr></thead>\n",
       "<thead><tr><th>bytes12</th><th>bytes1</th><th>float32</th><th>float32</th><th>float32</th><th>float32</th><th>float32</th><th>float32</th><th>int16</th><th>int16</th><th>bytes12</th><th>bytes12</th><th>bytes17</th><th>float32</th><th>float32</th><th>bytes23</th></tr></thead>\n",
       "<tr><td>GD 391F</td><td></td><td>12.500</td><td>0.544</td><td>0.048</td><td>0.329</td><td>0.331</td><td>0.660</td><td>10</td><td>5</td><td>20 29 37.183</td><td>+39 17 17.58</td><td>J20293718+3917176</td><td>-8.5</td><td>-15.4</td><td>2MASS J20293718+3917176</td></tr>\n",
       "</table>"
      ],
      "text/plain": [
       "<Row index=305>\n",
       "  Name    N    __Vmag_  __B-V_  __U-B_  __V-R_  __R-I_  __V-I_   No    Nn    RAJ2000      DEJ2000          _2MASS        pmRA     pmDE          SimbadName      \n",
       "                 mag     mag     mag     mag     mag     mag                 \"h:m:s\"      \"d:m:s\"                      mas / yr mas / yr                        \n",
       "bytes12 bytes1 float32 float32 float32 float32 float32 float32 int16 int16   bytes12      bytes12         bytes17      float32  float32          bytes23        \n",
       "------- ------ ------- ------- ------- ------- ------- ------- ----- ----- ------------ ------------ ----------------- -------- -------- -----------------------\n",
       "GD 391F         12.500   0.544   0.048   0.329   0.331   0.660    10     5 20 29 37.183 +39 17 17.58 J20293718+3917176     -8.5    -15.4 2MASS J20293718+3917176"
      ]
     },
     "execution_count": 17,
     "metadata": {},
     "output_type": "execute_result"
    }
   ],
   "source": [
    "landolt_tbl[index]"
   ]
  },
  {
   "cell_type": "markdown",
   "metadata": {},
   "source": [
    "Great!  We've found our standard star, and we know it has a visual magnitude $V_{mag} = 12.5$!"
   ]
  },
  {
   "cell_type": "code",
   "execution_count": 18,
   "metadata": {},
   "outputs": [
    {
     "name": "stdout",
     "output_type": "stream",
     "text": [
      "V Magnitude of standard star:  12.5\n"
     ]
    }
   ],
   "source": [
    "print(\"V Magnitude of standard star: \",landolt_tbl[index]['__Vmag_'])"
   ]
  },
  {
   "cell_type": "markdown",
   "metadata": {},
   "source": [
    "We can also determine its magnitude in the B and R bands using the colors in the table.  Note that the titles of the columns tell you what they contain: except for the V-band, the columns show _colors_, i.e., delta-magnitudes.  The `B-V` column is the `B-V` color.  If you want to obtain the B color, you just do `B-V + V = B`.  "
   ]
  },
  {
   "cell_type": "code",
   "execution_count": 19,
   "metadata": {},
   "outputs": [
    {
     "name": "stdout",
     "output_type": "stream",
     "text": [
      "B Magnitude of standard star:  13.044\n",
      "R Magnitude of standard star:  12.171\n"
     ]
    }
   ],
   "source": [
    "print(\"B Magnitude of standard star: \",landolt_tbl[index]['__Vmag_'] + landolt_tbl[index]['__B-V_'])\n",
    "print(\"R Magnitude of standard star: \",landolt_tbl[index]['__Vmag_'] - landolt_tbl[index]['__V-R_'])"
   ]
  },
  {
   "cell_type": "markdown",
   "metadata": {},
   "source": [
    "Now that we've selected this star, we need to go back through and do the same planning exercises for it as for the targets:\n",
    "\n",
    "1. Where is my calibrator?  (we answered this a few cells ago)\n",
    "2. When can I observe my calibrator? (the same time as my target!)\n",
    "3. How do I know when I've found my calibrator? (make a finder chart)\n",
    "4. How long do I need to observe?\n",
    "\n",
    "Since we've done (1) and (2), let's do (3) and (4):"
   ]
  },
  {
   "cell_type": "markdown",
   "metadata": {},
   "source": [
    "Recall how you made finder charts from Observation Planning Exercise 1:"
   ]
  },
  {
   "cell_type": "code",
   "execution_count": 34,
   "metadata": {},
   "outputs": [
    {
     "data": {
      "image/png": "[encoded data removed]",
      "text/plain": [
       "<Figure size 432x288 with 1 Axes>"
      ]
     },
     "metadata": {
      "needs_background": "light"
     },
     "output_type": "display_data"
    }
   ],
   "source": [
    "from astroplan.plots import plot_finder_image\n",
    "ax, hdu = plot_finder_image(landolt_coords[index], survey='DSS', fov_radius=15*u.arcmin, grid=False, reticle=True)"
   ]
  },
  {
   "cell_type": "markdown",
   "metadata": {},
   "source": [
    "If you've been on an observing run, you know that these finder charts are hard to use, and sometimes it's better to show them more saturated.  You can do that by specifying `style_kwargs`:"
   ]
  },
  {
   "cell_type": "code",
   "execution_count": 21,
   "metadata": {},
   "outputs": [
    {
     "data": {
      "image/png": "[encoded data removed]",
      "text/plain": [
       "<Figure size 432x288 with 1 Axes>"
      ]
     },
     "metadata": {
      "needs_background": "light"
     },
     "output_type": "display_data"
    }
   ],
   "source": [
    "ax, hdu = plot_finder_image(landolt_coords[index], survey='DSS', fov_radius=15*u.arcmin, grid=False, reticle=True, style_kwargs={'vmin':18000, 'vmax':18100})"
   ]
  },
  {
   "cell_type": "markdown",
   "metadata": {},
   "source": [
    "You can also change the colorscale if you want something that looks a little more like the night sky:"
   ]
  },
  {
   "cell_type": "code",
   "execution_count": 22,
   "metadata": {},
   "outputs": [
    {
     "data": {
      "image/png": "[encoded data removed]",
      "text/plain": [
       "<Figure size 432x288 with 1 Axes>"
      ]
     },
     "metadata": {
      "needs_background": "light"
     },
     "output_type": "display_data"
    }
   ],
   "source": [
    "ax, hdu = plot_finder_image(landolt_coords[index], survey='DSS', fov_radius=15*u.arcmin, grid=False, reticle=True, style_kwargs={'vmin':18000, 'vmax':18100, 'cmap':'gray'})"
   ]
  },
  {
   "cell_type": "markdown",
   "metadata": {},
   "source": [
    "How long do we need to observe?  We use the same technique as Observation Planning Exercise 2.\n",
    "\n",
    "The zero points are:\n",
    "* [3600 Jy for V-band](http://svo2.cab.inta-csic.es/theory/fps/index.php?id=Generic/Bessell.V&&mode=browse&gname=Generic&gname2=Bessell#filter)\n",
    "* [4000 Jy for B-band](http://svo2.cab.inta-csic.es/theory/fps/index.php?id=Generic/Bessell.B&&mode=browse&gname=Generic&gname2=Bessell#filter)\n",
    "* [2400 Jy for I-band](http://svo2.cab.inta-csic.es/theory/fps/index.php?id=Generic/Bessell.I&&mode=browse&gname=Generic&gname2=Bessell#filter)"
   ]
  },
  {
   "cell_type": "code",
   "execution_count": 23,
   "metadata": {},
   "outputs": [
    {
     "data": {
      "text/plain": [
       "(12.5, <Quantity 0.036 Jy>)"
      ]
     },
     "execution_count": 23,
     "metadata": {},
     "output_type": "execute_result"
    }
   ],
   "source": [
    "standard_star_vmag = landolt_tbl[index]['__Vmag_']\n",
    "vmag_zeropoint = 3600*u.Jy\n",
    "snu_standard = vmag_zeropoint * (10**(-standard_star_vmag/2.5))\n",
    "standard_star_vmag, snu_standard"
   ]
  },
  {
   "cell_type": "markdown",
   "metadata": {},
   "source": [
    "Using the telescope area and the filter properties, we now determine how much energy we receive from the star (which we calculated in the previous notebook):\n",
    "\n",
    "* The V filter has a central wavelength of 5504 Angstroms\n",
    "* The V filter has a width of \"about\" 1000 Angstroms (for [this filter](http://svo2.cab.inta-csic.es/theory/fps/index.php?id=Generic/Bessell.V&&mode=browse&gname=Generic&gname2=Bessell#filter), the width is 893 Angstroms, but we'll stick with the order-of-magnitude approximation for now)\n",
    "* We are calculating the area of a 14-inch telescope"
   ]
  },
  {
   "cell_type": "code",
   "execution_count": 24,
   "metadata": {},
   "outputs": [
    {
     "data": {
      "text/latex": [
       "$3.5381785 \\times 10^{-8} \\; \\mathrm{\\frac{erg}{s}}$"
      ],
      "text/plain": [
       "<Quantity 3.5381785e-08 erg / s>"
      ]
     },
     "execution_count": 24,
     "metadata": {},
     "output_type": "execute_result"
    }
   ],
   "source": [
    "v_filt_wav = 5504*u.AA\n",
    "v_filt_freq = (v_filt_wav).to(u.Hz, u.spectral())\n",
    "v_filter_width = 1000*u.AA\n",
    "A_CTO = (np.pi*(14/2 * u.imperial.inch)**2).to(u.cm**2)\n",
    "standard_ergs_per_s = snu_standard * A_CTO * v_filt_freq*(v_filter_width/v_filt_wav)\n",
    "standard_ergs_per_s.to(u.erg/u.s)"
   ]
  },
  {
   "cell_type": "code",
   "execution_count": 25,
   "metadata": {},
   "outputs": [],
   "source": [
    "from astropy import constants"
   ]
  },
  {
   "cell_type": "markdown",
   "metadata": {},
   "source": [
    "As before, we want to know the _number of photons_ we will receive per second, so we convert the above energy to a photon rate."
   ]
  },
  {
   "cell_type": "code",
   "execution_count": 26,
   "metadata": {},
   "outputs": [
    {
     "data": {
      "text/latex": [
       "$9803.5063 \\; \\mathrm{\\frac{1}{s}}$"
      ],
      "text/plain": [
       "<Quantity 9803.50629563 1 / s>"
      ]
     },
     "execution_count": 26,
     "metadata": {},
     "output_type": "execute_result"
    }
   ],
   "source": [
    "standard_phot_per_s = (standard_ergs_per_s / (constants.h * v_filt_freq)).decompose()\n",
    "standard_phot_per_s"
   ]
  },
  {
   "cell_type": "markdown",
   "metadata": {},
   "source": [
    "Then, we want to account for the inefficiences in our telescope: the average filter efficiency, the CCD's quantum efficiency, and the loss from atmospheric absorption (noting, of course, that the atmospheric loss is calculated for zenith, so it could be worse than this!)"
   ]
  },
  {
   "cell_type": "code",
   "execution_count": 27,
   "metadata": {},
   "outputs": [
    {
     "data": {
      "text/plain": [
       "0.41999999999999993"
      ]
     },
     "execution_count": 27,
     "metadata": {},
     "output_type": "execute_result"
    }
   ],
   "source": [
    "filter_efficiency = 0.75\n",
    "quantum_efficiency = 0.7\n",
    "atmosphere_loss = 0.2\n",
    "received_fraction = filter_efficiency * quantum_efficiency * (1-atmosphere_loss)\n",
    "received_fraction"
   ]
  },
  {
   "cell_type": "markdown",
   "metadata": {},
   "source": [
    "As before, we need to determine how much our signal will be spread out.  We use the same $\\sigma=2\"$ PSF and $0.5\"$ pixel scale"
   ]
  },
  {
   "cell_type": "code",
   "execution_count": 28,
   "metadata": {},
   "outputs": [
    {
     "data": {
      "text/latex": [
       "$25.132741 \\; \\mathrm{arcsec^{2}}$"
      ],
      "text/plain": [
       "<Quantity 25.13274123 arcsec2>"
      ]
     },
     "execution_count": 28,
     "metadata": {},
     "output_type": "execute_result"
    }
   ],
   "source": [
    "psf_area = 2 * np.pi * (2*u.arcsec)**2\n",
    "psf_area"
   ]
  },
  {
   "cell_type": "code",
   "execution_count": 29,
   "metadata": {},
   "outputs": [
    {
     "data": {
      "text/latex": [
       "$100.53096 \\; \\mathrm{pix^{2}}$"
      ],
      "text/plain": [
       "<Quantity 100.53096491 pix2>"
      ]
     },
     "execution_count": 29,
     "metadata": {},
     "output_type": "execute_result"
    }
   ],
   "source": [
    "pixel_scale = 0.5*u.arcsec/u.pixel\n",
    "psf_area_pixels = psf_area * pixel_scale**-2\n",
    "psf_area_pixels"
   ]
  },
  {
   "cell_type": "code",
   "execution_count": 30,
   "metadata": {},
   "outputs": [
    {
     "data": {
      "text/latex": [
       "$40.957258 \\; \\mathrm{\\frac{1}{s\\,pix^{2}}}$"
      ],
      "text/plain": [
       "<Quantity 40.95725777 1 / (pix2 s)>"
      ]
     },
     "execution_count": 30,
     "metadata": {},
     "output_type": "execute_result"
    }
   ],
   "source": [
    "count_rate_per_pixel = standard_phot_per_s / psf_area_pixels * received_fraction\n",
    "count_rate_per_pixel"
   ]
  },
  {
   "cell_type": "markdown",
   "metadata": {},
   "source": [
    "We want our signal-to-noise ratio to be at least as good as our target, ideally better, since we will be comparing these measurements (taking their difference) and therefore their noise will add in quadrature again.  We can set a target SNR = 100 as before\n"
   ]
  },
  {
   "cell_type": "code",
   "execution_count": 31,
   "metadata": {},
   "outputs": [
    {
     "data": {
      "text/latex": [
       "$100.26513 \\; \\mathrm{adu}$"
      ],
      "text/plain": [
       "<Quantity 100.26513099 adu>"
      ]
     },
     "execution_count": 31,
     "metadata": {},
     "output_type": "execute_result"
    }
   ],
   "source": [
    "readnoise_per_pix = 10*u.adu/u.pix\n",
    "readnoise_sum = psf_area_pixels**0.5 * readnoise_per_pix\n",
    "readnoise_sum"
   ]
  },
  {
   "cell_type": "code",
   "execution_count": 32,
   "metadata": {},
   "outputs": [
    {
     "data": {
      "text/plain": [
       "15099.279489285953"
      ]
     },
     "execution_count": 32,
     "metadata": {},
     "output_type": "execute_result"
    }
   ],
   "source": [
    "SNR = 100\n",
    "target_signal = SNR**2 + (SNR**4 + 4*readnoise_sum.value*SNR**2)**0.5 / 2\n",
    "target_signal"
   ]
  },
  {
   "cell_type": "code",
   "execution_count": 33,
   "metadata": {},
   "outputs": [
    {
     "data": {
      "text/latex": [
       "$3.6671232 \\; \\mathrm{s}$"
      ],
      "text/plain": [
       "<Quantity 3.66712321 s>"
      ]
     },
     "execution_count": 33,
     "metadata": {},
     "output_type": "execute_result"
    }
   ],
   "source": [
    "integration_time_including_readnoise = target_signal / standard_phot_per_s / received_fraction\n",
    "integration_time_including_readnoise"
   ]
  },
  {
   "cell_type": "markdown",
   "metadata": {},
   "source": [
    "Now, repeat this exercise for:\n",
    "\n",
    "* (1) the B and R filters.  How long do you need to expose the standard star in each of those filters to get to SNR = 100?\n",
    "* (2) A standard star near your target.  You may pick the target you're using for the Observing Proposal (as you will need this information), or you can just pick something possibly interesting, like M33.\n",
    "\n"
   ]
  },
  {
   "cell_type": "markdown",
   "metadata": {},
   "source": [
    "Note that for most of this exercise, you don't need to re-calculate much of the above.  Think about which items you do need to re-calculate.  Answer these questions before you do the exercise.\n",
    "\n",
    "Do you need to recalculate or re-enter:\n",
    "\n",
    "* The star's magnitude? Yes\n",
    "* The star's spectral flux density?  Flux density?\n",
    "* The star's count rate?\n",
    "* The PSF area?\n",
    "* The total readnoise?\n",
    "* The telescope area?\n",
    "* The filter center?\n",
    "* The filter width?\n",
    "* The goal SNR?\n",
    "* The target signal for the goal SNR?\n",
    "* The goal integration time?\n",
    "* The star location?\n",
    "\n",
    "\n",
    "Answer each of the above with a \"Yes\" or \"No\".  The first is answered \"Yes\" for you - we're looking at a different filter for part (1) and a different target for part (2), so you definitely need to have a different value for the magnitude."
   ]
  },
  {
   "cell_type": "markdown",
   "metadata": {},
   "source": [
    "Then, in new cells below here, complete the exercise:"
   ]
  },
  {
   "cell_type": "code",
   "execution_count": null,
   "metadata": {},
   "outputs": [],
   "source": []
  }
 ],
 "metadata": {
  "kernelspec": {
   "display_name": "Python 3",
   "language": "python",
   "name": "python3"
  },
  "language_info": {
   "codemirror_mode": {
    "name": "ipython",
    "version": 3
   },
   "file_extension": ".py",
   "mimetype": "text/x-python",
   "name": "python",
   "nbconvert_exporter": "python",
   "pygments_lexer": "ipython3",
   "version": "3.7.6"
  }
 },
 "nbformat": 4,
 "nbformat_minor": 4
}
