{
 "cells": [
  {
   "cell_type": "markdown",
   "metadata": {},
   "source": [
    "# Machine Readable Tables\n",
    "\n",
    "To transfer data between researchers, we need to make _machine-readable tables_, i.e., tables that are easy to read into software.\n",
    "\n",
    "[`astropy.table.Table`](https://docs.astropy.org/en/stable/table/) makes this easy."
   ]
  },
  {
   "cell_type": "markdown",
   "metadata": {},
   "source": [
    "You can create a machine-readable table several ways.  One way is to create the rows or the columns of data separately, then assemble them into a table, e.g.:"
   ]
  },
  {
   "cell_type": "code",
   "execution_count": 2,
   "metadata": {},
   "outputs": [],
   "source": [
    "from astropy.table import Table\n",
    "import numpy as np\n",
    "\n",
    "aa = np.array([1, 4, 5], dtype=np.int32)\n",
    "bb = [2.0, 5.0, 8.5]\n",
    "cc = ['x', 'y', 'z']\n",
    "dd = [10, 20, 30]\n",
    "\n",
    "tbl = Table([aa, bb, cc, dd],\n",
    "             names=('aa', 'bb', 'cc', 'dd'),\n",
    "             meta={'name': 'first table'})"
   ]
  },
  {
   "cell_type": "code",
   "execution_count": 3,
   "metadata": {},
   "outputs": [
    {
     "data": {
      "text/html": [
       "<i>Table length=3</i>\n",
       "<table id=\"table1403648911296\" class=\"table-striped table-bordered table-condensed\">\n",
       "<thead><tr><th>aa</th><th>bb</th><th>cc</th><th>dd</th></tr></thead>\n",
       "<thead><tr><th>int32</th><th>float64</th><th>str1</th><th>int32</th></tr></thead>\n",
       "<tr><td>1</td><td>2.0</td><td>x</td><td>10</td></tr>\n",
       "<tr><td>4</td><td>5.0</td><td>y</td><td>20</td></tr>\n",
       "<tr><td>5</td><td>8.5</td><td>z</td><td>30</td></tr>\n",
       "</table>"
      ],
      "text/plain": [
       "<Table length=3>\n",
       "  aa     bb    cc    dd \n",
       "int32 float64 str1 int32\n",
       "----- ------- ---- -----\n",
       "    1     2.0    x    10\n",
       "    4     5.0    y    20\n",
       "    5     8.5    z    30"
      ]
     },
     "execution_count": 3,
     "metadata": {},
     "output_type": "execute_result"
    }
   ],
   "source": [
    "tbl"
   ]
  },
  {
   "cell_type": "markdown",
   "metadata": {},
   "source": [
    "You can then save this as a FITS table:"
   ]
  },
  {
   "cell_type": "code",
   "execution_count": 4,
   "metadata": {},
   "outputs": [],
   "source": [
    "tbl.write('abcd_example.fits', overwrite=True)"
   ]
  },
  {
   "cell_type": "markdown",
   "metadata": {},
   "source": [
    "Another way is to assemble the data through lists of dictionaries - this is basically the `json` format, and is the main data format used across the internet and in data science."
   ]
  },
  {
   "cell_type": "code",
   "execution_count": 5,
   "metadata": {},
   "outputs": [],
   "source": [
    "row1 = {'aa': 1, 'bb': 2.0, 'cc': 'x', 'dd': 10}\n",
    "row2 = {'aa': 4, 'bb': 5.0, 'cc': 'y', 'dd': 20}\n",
    "row3 = {'aa': 5, 'bb': 8.5, 'cc': 'z', 'dd': 30}\n",
    "tbl = Table([row1, row2, row3],\n",
    "             meta={'name': 'second table'})"
   ]
  },
  {
   "cell_type": "code",
   "execution_count": 6,
   "metadata": {},
   "outputs": [
    {
     "data": {
      "text/html": [
       "<i>Table length=3</i>\n",
       "<table id=\"table1403667472192\" class=\"table-striped table-bordered table-condensed\">\n",
       "<thead><tr><th>aa</th><th>bb</th><th>cc</th><th>dd</th></tr></thead>\n",
       "<thead><tr><th>int32</th><th>float64</th><th>str1</th><th>int32</th></tr></thead>\n",
       "<tr><td>1</td><td>2.0</td><td>x</td><td>10</td></tr>\n",
       "<tr><td>4</td><td>5.0</td><td>y</td><td>20</td></tr>\n",
       "<tr><td>5</td><td>8.5</td><td>z</td><td>30</td></tr>\n",
       "</table>"
      ],
      "text/plain": [
       "<Table length=3>\n",
       "  aa     bb    cc    dd \n",
       "int32 float64 str1 int32\n",
       "----- ------- ---- -----\n",
       "    1     2.0    x    10\n",
       "    4     5.0    y    20\n",
       "    5     8.5    z    30"
      ]
     },
     "execution_count": 6,
     "metadata": {},
     "output_type": "execute_result"
    }
   ],
   "source": [
    "tbl"
   ]
  },
  {
   "cell_type": "markdown",
   "metadata": {},
   "source": [
    "The latter approach is probably better for our data, because we can create a row for each measurement."
   ]
  },
  {
   "cell_type": "markdown",
   "metadata": {},
   "source": [
    "A third way is to write a `.csv`-formatted (comma-separated value) data set directly:"
   ]
  },
  {
   "cell_type": "code",
   "execution_count": 7,
   "metadata": {},
   "outputs": [],
   "source": [
    "from astropy.io import ascii"
   ]
  },
  {
   "cell_type": "code",
   "execution_count": 8,
   "metadata": {},
   "outputs": [],
   "source": [
    "data = \"\"\"aa,bb,cc,dd\n",
    "1,2.0,x,10\n",
    "4,5.0,y,20\n",
    "5,8.5,z,30\"\"\"\n",
    "tbl = ascii.read(data)"
   ]
  },
  {
   "cell_type": "code",
   "execution_count": 9,
   "metadata": {},
   "outputs": [
    {
     "data": {
      "text/html": [
       "<i>Table length=3</i>\n",
       "<table id=\"table1403667672800\" class=\"table-striped table-bordered table-condensed\">\n",
       "<thead><tr><th>aa</th><th>bb</th><th>cc</th><th>dd</th></tr></thead>\n",
       "<thead><tr><th>int32</th><th>float64</th><th>str1</th><th>int32</th></tr></thead>\n",
       "<tr><td>1</td><td>2.0</td><td>x</td><td>10</td></tr>\n",
       "<tr><td>4</td><td>5.0</td><td>y</td><td>20</td></tr>\n",
       "<tr><td>5</td><td>8.5</td><td>z</td><td>30</td></tr>\n",
       "</table>"
      ],
      "text/plain": [
       "<Table length=3>\n",
       "  aa     bb    cc    dd \n",
       "int32 float64 str1 int32\n",
       "----- ------- ---- -----\n",
       "    1     2.0    x    10\n",
       "    4     5.0    y    20\n",
       "    5     8.5    z    30"
      ]
     },
     "execution_count": 9,
     "metadata": {},
     "output_type": "execute_result"
    }
   ],
   "source": [
    "tbl"
   ]
  },
  {
   "cell_type": "markdown",
   "metadata": {},
   "source": [
    "Once you've made that table, save it as a FITS table:"
   ]
  },
  {
   "cell_type": "code",
   "execution_count": 10,
   "metadata": {},
   "outputs": [],
   "source": [
    "tbl.write('table.fits')"
   ]
  }
 ],
 "metadata": {
  "kernelspec": {
   "display_name": "Python 3",
   "language": "python",
   "name": "python3"
  },
  "language_info": {
   "codemirror_mode": {
    "name": "ipython",
    "version": 3
   },
   "file_extension": ".py",
   "mimetype": "text/x-python",
   "name": "python",
   "nbconvert_exporter": "python",
   "pygments_lexer": "ipython3",
   "version": "3.8.5"
  }
 },
 "nbformat": 4,
 "nbformat_minor": 4
}
