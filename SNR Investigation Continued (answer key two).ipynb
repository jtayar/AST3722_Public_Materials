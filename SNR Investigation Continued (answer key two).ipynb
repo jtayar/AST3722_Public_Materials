{
 "cells": [
  {
   "cell_type": "markdown",
   "metadata": {},
   "source": [
    "# Signal-to-Noise Ratio"
   ]
  },
  {
   "cell_type": "markdown",
   "metadata": {},
   "source": [
    "We've seen that there are differences in taking a few vs. taking many exposures.  \n",
    "\n",
    "In this notebook, you'll investigate some practical examples."
   ]
  },
  {
   "cell_type": "markdown",
   "metadata": {},
   "source": [
    "#### Some background assumptions\n",
    "\n",
    "Our CCDs have readnoise $\\sim10$ counts.\n",
    "\n",
    "They have relatively little dark current, $<1$ count/second."
   ]
  },
  {
   "cell_type": "markdown",
   "metadata": {},
   "source": [
    "## Case 1:\n",
    "\n",
    "We observe a moderately bright source that produces 100 counts/second/pixel for 30s.  What is our signal-to-noise ratio in 1 pixel in 1 exposure?"
   ]
  },
  {
   "cell_type": "code",
   "execution_count": 2,
   "metadata": {},
   "outputs": [
    {
     "name": "stdout",
     "output_type": "stream",
     "text": [
      "53.88159060803247\n"
     ]
    }
   ],
   "source": [
    "readnoise = 10 # counts\n",
    "countrate = 100 # counts/second\n",
    "integration_time_30s = 30 # seconds\n",
    "signal = countrate * integration_time_30s\n",
    "poisson_noise = signal**0.5\n",
    "noise = (poisson_noise**2 + readnoise**2)**0.5# propagate error: consider both Poisson noise and readnoise\n",
    "snr = signal/noise\n",
    "print(snr)"
   ]
  },
  {
   "cell_type": "markdown",
   "metadata": {},
   "source": [
    "Now say we take three exposures, each 30s, and _sum_ them.  \n",
    "\n",
    "Recall:\n",
    "$$sum = \\Sigma x_i$$\n",
    "$$\\sigma_{sum}^2 = \\Sigma \\sigma_i^2$$"
   ]
  },
  {
   "cell_type": "code",
   "execution_count": 3,
   "metadata": {},
   "outputs": [
    {
     "name": "stdout",
     "output_type": "stream",
     "text": [
      "93.32565252573826\n"
     ]
    }
   ],
   "source": [
    "signal_per_image = countrate * integration_time_30s\n",
    "number_of_images_30s = 3\n",
    "total_signal = signal_per_image * number_of_images_30s\n",
    "sum_noise = (poisson_noise**2 * 3 + readnoise**2 * 3)**0.5\n",
    "snr_30s = total_signal/sum_noise\n",
    "print(snr_30s)"
   ]
  },
  {
   "cell_type": "markdown",
   "metadata": {},
   "source": [
    "What if we _average_ them?\n",
    "\n",
    "Recall:\n",
    "$$\\mu = \\frac{1}{N} \\Sigma x_i$$\n",
    "$$\\sigma_{\\mu}^2 = \\frac{1}{N} \\Sigma \\sigma_i^2$$"
   ]
  },
  {
   "cell_type": "code",
   "execution_count": 4,
   "metadata": {},
   "outputs": [
    {
     "name": "stdout",
     "output_type": "stream",
     "text": [
      "93.32565252573826\n"
     ]
    }
   ],
   "source": [
    "mean_noise = sum_noise / number_of_images_30s\n",
    "mean_signal = total_signal / number_of_images_30s\n",
    "snr = mean_signal / (mean_noise)\n",
    "print(snr)"
   ]
  },
  {
   "cell_type": "markdown",
   "metadata": {},
   "source": [
    "## Case 2\n",
    "\n",
    "Now we look at the same source but with 1s exposures.  What's the SNR in a single 1s exposure?"
   ]
  },
  {
   "cell_type": "code",
   "execution_count": 5,
   "metadata": {},
   "outputs": [
    {
     "name": "stdout",
     "output_type": "stream",
     "text": [
      "7.071067811865475\n"
     ]
    }
   ],
   "source": [
    "readnoise = 10 # counts\n",
    "countrate = 100 # counts/second\n",
    "integration_time_1s = 1 # seconds\n",
    "signal = countrate * integration_time_1s\n",
    "poisson_noise = signal**0.5\n",
    "noise = (poisson_noise**2 + readnoise**2)**0.5 # propagate error: consider both Poisson noise and readnoise\n",
    "snr = signal/noise\n",
    "print(snr)"
   ]
  },
  {
   "cell_type": "markdown",
   "metadata": {},
   "source": [
    "How long do we have to integrate to get the same _signal_ in 1s exposures as we got in 3 x 30s exposures?\n",
    "\n",
    "How many 1s exposures would that require?"
   ]
  },
  {
   "cell_type": "code",
   "execution_count": 6,
   "metadata": {},
   "outputs": [],
   "source": [
    "exptime = integration_time_30s * 3 / integration_time_1s # seconds\n",
    "number_of_images = 90"
   ]
  },
  {
   "cell_type": "markdown",
   "metadata": {},
   "source": [
    "If we take those exposures and sum them, what's our SNR?"
   ]
  },
  {
   "cell_type": "code",
   "execution_count": 7,
   "metadata": {},
   "outputs": [
    {
     "name": "stdout",
     "output_type": "stream",
     "text": [
      "67.0820393249937\n"
     ]
    }
   ],
   "source": [
    "signal_per_image = countrate * integration_time_1s\n",
    "total_signal = signal_per_image * number_of_images\n",
    "sum_noise = (total_signal + number_of_images*readnoise**2)**0.5\n",
    "snr_1s = total_signal/sum_noise\n",
    "print(snr_1s)"
   ]
  },
  {
   "cell_type": "markdown",
   "metadata": {},
   "source": [
    "How many 1s exposures do we need to get to the same SNR as 3x30s exposures?\n",
    "\n",
    "We can determine this by writing out our signal-to-noise ratio as the ratio of the signal, which is the sum of the counts in all the exposures, divided by the uncertainty on the sum, which includes both the Poisson noise and the readnoise appropriately propagated."
   ]
  },
  {
   "cell_type": "markdown",
   "metadata": {},
   "source": [
    "$$SNR_{30s} = \\frac{\\Sigma_{N,30s} S_{30s}}{(\\Sigma_{N,30s} (S_{30s}+ \\sigma_{RN}^2))^{1/2}}$$\n",
    "$$SNR_{1s} = \\frac{\\Sigma_{N,1s} S_{1s}}{(\\Sigma_{N,1s} (S_{1s}+ \\sigma_{RN}^2))^{1/2}}$$\n"
   ]
  },
  {
   "cell_type": "markdown",
   "metadata": {},
   "source": [
    "In those equations, $S_{30s}$ is the signal in a 30s image, $\\sigma_{RN}$ is the readnoise, and $N_{30s}$ is the number of thirty second exposures.   Since each exposure has the same assumed signal, we can say that $\\Sigma_{N,30s} S_{30s} = N_{30s} S_{30s}$.  The same notation is used for the 1s exposures."
   ]
  },
  {
   "cell_type": "markdown",
   "metadata": {},
   "source": [
    "We can solve for $N_{1s}$, the number of 1-second exposures, by equating $SNR_{1s}=SNR_{30s}$\n",
    "\n",
    "$$SNR_{1s} = \\frac{\\Sigma_{N,1s} S_{1s}}{(\\Sigma_{N,1s} S_{1s} \\sigma_{RN}^2)^{1/2}} \n",
    "= \\frac{N_{1s} S_{1s}}{\\left(N_{1s} (S_{1s} + \\sigma_{RN}^2)\\right)^{1/2}} = N_{1s}^{1/2} \\frac{S_{1s}}{(S_{1s} + \\sigma_{RN}^2)^{1/2}}$$\n"
   ]
  },
  {
   "cell_type": "markdown",
   "metadata": {},
   "source": [
    "$$N_{1s} = \\frac{ SNR_{30s}^2 (S_{1s} + \\sigma_{RN}^2) }{S_{1s}^2}$$"
   ]
  },
  {
   "cell_type": "markdown",
   "metadata": {},
   "source": [
    "Given that equation, determine how many 1s exposures we need to match the SNR you computed for 3x30s exposures above (probably in the variable `snr_30s`)."
   ]
  },
  {
   "cell_type": "code",
   "execution_count": 8,
   "metadata": {},
   "outputs": [
    {
     "name": "stdout",
     "output_type": "stream",
     "text": [
      "174.19354838709674\n"
     ]
    }
   ],
   "source": [
    "signal_1s = integration_time_1s * countrate\n",
    "nexp = snr_30s**2 * (signal_1s + readnoise**2) / signal_1s**2 # implement the equation above\n",
    "print(nexp)"
   ]
  },
  {
   "cell_type": "markdown",
   "metadata": {},
   "source": [
    "How much more time do you need to spend taking short exposures than long exposures (take both the difference and the ratio):"
   ]
  },
  {
   "cell_type": "code",
   "execution_count": 9,
   "metadata": {},
   "outputs": [
    {
     "name": "stdout",
     "output_type": "stream",
     "text": [
      "Ratio:  1.9354838709677415\n",
      "Difference:  84.19354838709674\n"
     ]
    }
   ],
   "source": [
    "exposure_time_30s = number_of_images_30s * integration_time_30s\n",
    "exposure_time_1s = nexp * integration_time_1s\n",
    "print(\"Ratio: \",exposure_time_1s/exposure_time_30s)# student answer here )\n",
    "print(\"Difference: \",exposure_time_1s-exposure_time_30s) #student answer here)"
   ]
  },
  {
   "cell_type": "markdown",
   "metadata": {},
   "source": [
    "##  Case 3:\n",
    "\n",
    "Now that we've solved the above case, let's repeat it for different sources:\n",
    "\n",
    "(1) a faint source, 10 counts / second / pixel\n",
    "\n",
    "(2) a very bright source, 1000 counts/second/pixel"
   ]
  },
  {
   "cell_type": "markdown",
   "metadata": {},
   "source": [
    "For the faint source, what SNR do you achieve in 3x30s exposures?  How long do you need to spend with 1s exposures to get to the same SNRs? "
   ]
  },
  {
   "cell_type": "code",
   "execution_count": 10,
   "metadata": {},
   "outputs": [
    {
     "name": "stdout",
     "output_type": "stream",
     "text": [
      "25.980762113533157\n"
     ]
    }
   ],
   "source": [
    "countrate = 10\n",
    "readnoise = 10\n",
    "exposuretime = 30\n",
    "signal_each = exposuretime * countrate\n",
    "noise_each = (signal_each + readnoise**2)**0.5\n",
    "signal_sum = signal_each * 3\n",
    "noise_sum = (signal_sum + 3*readnoise**2)**0.5\n",
    "snr_30s= signal_sum/noise_sum\n",
    "print(snr_30s)"
   ]
  },
  {
   "cell_type": "code",
   "execution_count": 11,
   "metadata": {},
   "outputs": [
    {
     "name": "stdout",
     "output_type": "stream",
     "text": [
      "742.4999999999999\n"
     ]
    }
   ],
   "source": [
    "# how many 1s exposures do we need (you should be able to copy & paste from above)\n",
    "signal_1s = 1 * countrate\n",
    "nexp = snr_30s**2 * (signal_1s + readnoise**2) / signal_1s**2 # implement the equation above\n",
    "print(nexp)"
   ]
  },
  {
   "cell_type": "code",
   "execution_count": 12,
   "metadata": {},
   "outputs": [
    {
     "name": "stdout",
     "output_type": "stream",
     "text": [
      "Ratio:  8.249999999999998\n",
      "Difference:  652.4999999999999\n"
     ]
    }
   ],
   "source": [
    "exposure_time_30s = 3 * 30\n",
    "exposure_time_1s = nexp * 1\n",
    "print(\"Ratio: \",exposure_time_1s/exposure_time_30s)\n",
    "print(\"Difference: \",exposure_time_1s-exposure_time_30s)"
   ]
  },
  {
   "cell_type": "markdown",
   "metadata": {},
   "source": [
    "Now do that for the bright source:"
   ]
  },
  {
   "cell_type": "code",
   "execution_count": 13,
   "metadata": {},
   "outputs": [
    {
     "name": "stdout",
     "output_type": "stream",
     "text": [
      "299.5012465378748\n"
     ]
    }
   ],
   "source": [
    "countrate = 1000\n",
    "readnoise = 10\n",
    "exposuretime = 30\n",
    "signal_each = exposuretime * countrate\n",
    "noise_each = (signal_each + readnoise**2)**0.5\n",
    "signal_sum = signal_each * 3\n",
    "noise_sum = noise_each * 3**0.5\n",
    "snr_30s= signal_sum/noise_sum\n",
    "print(snr_30s)"
   ]
  },
  {
   "cell_type": "markdown",
   "metadata": {},
   "source": [
    "Again, how many 1s exposures do we need to match the S/N of the 30s exposures?"
   ]
  },
  {
   "cell_type": "code",
   "execution_count": 14,
   "metadata": {},
   "outputs": [
    {
     "name": "stdout",
     "output_type": "stream",
     "text": [
      "98.67109634551495\n"
     ]
    }
   ],
   "source": [
    "# how many 1s exposures do we need (you should be able to copy & paste from above)\n",
    "signal_1s = 1 * countrate\n",
    "nexp = snr_30s**2 * (signal_1s + readnoise**2) / signal_1s**2 # implement the equation above\n",
    "print(nexp)"
   ]
  },
  {
   "cell_type": "code",
   "execution_count": 15,
   "metadata": {},
   "outputs": [
    {
     "name": "stdout",
     "output_type": "stream",
     "text": [
      "Ratio:  1.0963455149501662\n",
      "Difference:  1.0963455149501662\n"
     ]
    }
   ],
   "source": [
    "exposure_time_30s = 3 * 30\n",
    "exposure_time_1s = nexp * 1\n",
    "print(\"Ratio: \",exposure_time_1s/exposure_time_30s)\n",
    "print(\"Difference: \",exposure_time_1s/exposure_time_30s)"
   ]
  },
  {
   "cell_type": "markdown",
   "metadata": {},
   "source": [
    "## Conclusion\n",
    "\n",
    "You have several cases:\n",
    "\n",
    "1) A moderately bright source with a short exposure\n",
    "2) A moderately bright source with a long exposure\n",
    "3) A faint source, for long and short exposures\n",
    "4) A bright source, for long and short exposures\n",
    "\n",
    "You have determined how long it takes to get to a given signal-to-noise ratio.\n",
    "\n",
    "What can you now say about the importance of exposure time for achieving a given signal to noise ratio?\n",
    "\n",
    "What is the role of read noise in this conclusion (why does read noise matter)?"
   ]
  },
  {
   "cell_type": "markdown",
   "metadata": {},
   "source": [
    "- your answer - "
   ]
  },
  {
   "cell_type": "code",
   "execution_count": null,
   "metadata": {},
   "outputs": [],
   "source": []
  }
 ],
 "metadata": {
  "kernelspec": {
   "display_name": "Python 3",
   "language": "python",
   "name": "python3"
  },
  "language_info": {
   "codemirror_mode": {
    "name": "ipython",
    "version": 3
   },
   "file_extension": ".py",
   "mimetype": "text/x-python",
   "name": "python",
   "nbconvert_exporter": "python",
   "pygments_lexer": "ipython3",
   "version": "3.8.8"
  }
 },
 "nbformat": 4,
 "nbformat_minor": 4
}
