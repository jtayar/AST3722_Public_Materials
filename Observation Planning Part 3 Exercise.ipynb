{
 "cells": [
  {
   "cell_type": "markdown",
   "metadata": {},
   "source": [
    "# Observation Planning Part 3\n",
    "\n",
    "\n",
    "1. Where is my target?\n",
    "2. When can I observe my target?\n",
    "3. How do I know when I've found my target (make a finder chart)?\n",
    "4. How long do I need to observe?\n",
    "5. __How will I calibrate my data?__\n"
   ]
  },
  {
   "cell_type": "markdown",
   "metadata": {},
   "source": [
    "# Index\n",
    "\n",
    "* [Q1](#Q1): What factors affect our ability to collect light?\n",
    "* [Calibration: Photometric Standards](#Calibration:-Photometric-Standards)\n",
    "  * [Closest Calibrator](#Find-closest-calibrator)\n",
    "  * [Finder Chart for calibrator](#Finder-Chart-for-Calibrator)\n",
    "  * [Exposure Time for calibrator](#Exposure-time-for-calibrator)"
   ]
  },
  {
   "cell_type": "markdown",
   "metadata": {},
   "source": [
    "## How will I calibrate my data?"
   ]
  },
  {
   "cell_type": "markdown",
   "metadata": {},
   "source": [
    "To make a photometric measurement, we need to know how efficient our instrument really is.  In theory, every photon collected in our telescope goes to the CCD and is converted to electrons, but in practice several factors prevent this.  \n",
    "\n",
    "# Q1\n",
    "\n",
    "What are the factors that limit our ability to collect the light?  i.e., what prevents us from counting every photon?  Consider instrumental and atmospheric effects."
   ]
  },
  {
   "cell_type": "markdown",
   "metadata": {},
   "source": [
    "(student answer)"
   ]
  },
  {
   "cell_type": "markdown",
   "metadata": {},
   "source": [
    "## Calibration: Photometric Standards\n",
    "\n",
    "To calibrate our image, we can use reference stars with known brightness to infer how much light is lost on the way to our image."
   ]
  },
  {
   "cell_type": "markdown",
   "metadata": {},
   "source": [
    "**Landolt photometric standard stars** are the best standards to use because they've been selected to be non-variable and have been carefully calibrated.  "
   ]
  },
  {
   "cell_type": "markdown",
   "metadata": {},
   "source": [
    "However, the AAVSO (American Association of Variable Star Observers) has provided some really nice tools for obtaining standard star locations:\n",
    "\n",
    "https://www.aavso.org/apps/vsd/stdfields"
   ]
  },
  {
   "cell_type": "markdown",
   "metadata": {},
   "source": [
    "We can also retrieve catalogs from Vizier, the Centre de Données astronomiques de Strasbourg services for catalogs.\n",
    "\n",
    "For simplicity, we'll adopt this latter approach."
   ]
  },
  {
   "cell_type": "code",
   "execution_count": null,
   "metadata": {},
   "outputs": [],
   "source": [
    "from astroquery.vizier import Vizier"
   ]
  },
  {
   "cell_type": "markdown",
   "metadata": {},
   "source": [
    "You can use the `Vizier.get_catalogs` method in astroquery to grab the data from a catalog whose precise name you already know"
   ]
  },
  {
   "cell_type": "code",
   "execution_count": null,
   "metadata": {},
   "outputs": [],
   "source": [
    "Vizier.ROW_LIMIT = 10000\n",
    "landolt_catalog = Vizier.get_catalogs('J/AJ/146/131/standards')"
   ]
  },
  {
   "cell_type": "markdown",
   "metadata": {},
   "source": [
    "Vizier actually returns a list of tables:"
   ]
  },
  {
   "cell_type": "code",
   "execution_count": null,
   "metadata": {},
   "outputs": [],
   "source": [
    "landolt_catalog"
   ]
  },
  {
   "cell_type": "markdown",
   "metadata": {},
   "source": [
    "But we want to look at only the first of these:"
   ]
  },
  {
   "cell_type": "code",
   "execution_count": null,
   "metadata": {},
   "outputs": [],
   "source": [
    "landolt_tbl = landolt_catalog[0]\n",
    "landolt_tbl.show_in_notebook(display_length=5) # you can change the display_length to show more or fewer rows"
   ]
  },
  {
   "cell_type": "markdown",
   "metadata": {},
   "source": [
    "The table above contains two columns that specify the RA and Dec coordinates, `RAJ2000` and `DEJ2000`.\n",
    "\n",
    "We'd like to be able to plot these and use them in some calculations below, so we'll turn them into `astropy.coordinates` objects.   Note that we need to do this because most software tools don't know how to read sexagesimal labels as numbers.  Anyway, the conversion process is easy:"
   ]
  },
  {
   "cell_type": "code",
   "execution_count": null,
   "metadata": {},
   "outputs": [],
   "source": [
    "from astropy import coordinates, units as u"
   ]
  },
  {
   "cell_type": "code",
   "execution_count": null,
   "metadata": {},
   "outputs": [],
   "source": [
    "landolt_coords = coordinates.SkyCoord(landolt_tbl['RAJ2000'], landolt_tbl['DEJ2000'], unit=(u.h, u.deg))"
   ]
  },
  {
   "cell_type": "markdown",
   "metadata": {},
   "source": [
    "We can visualize the _sky coverage_ of these standard stars in RA and Dec:"
   ]
  },
  {
   "cell_type": "code",
   "execution_count": null,
   "metadata": {},
   "outputs": [],
   "source": [
    "import pylab as plt\n",
    "plt.style.use('dark_background') # if you're using a light background, you should turn this off"
   ]
  },
  {
   "cell_type": "code",
   "execution_count": null,
   "metadata": {},
   "outputs": [],
   "source": [
    "_=plt.plot(landolt_coords.ra, landolt_coords.dec, 'o')\n",
    "_=plt.xlabel(\"RA\")\n",
    "_=plt.ylabel(\"Dec\")\n",
    "_=plt.title(\"Sky locations of Landolt standard stars (North)\")"
   ]
  },
  {
   "cell_type": "markdown",
   "metadata": {},
   "source": [
    "What if we want to figure out where these are in altitute and azimuth (alt/az) relative to us, the observer?  The Sky Plot feature from astroplan is good for that!  Of course, we need to specify the observatory first:"
   ]
  },
  {
   "cell_type": "code",
   "execution_count": null,
   "metadata": {},
   "outputs": [],
   "source": [
    "from astroplan import Observer\n",
    "from astropy import units as u # shortcut\n",
    "CTO = Observer(location=coordinates.EarthLocation(lat=29.643018, lon=-82.349004*u.deg, height=31*u.m),\n",
    "               timezone='EST',\n",
    "               name='University of Florida Campus Teaching Observatory',\n",
    "              )"
   ]
  },
  {
   "cell_type": "code",
   "execution_count": null,
   "metadata": {},
   "outputs": [],
   "source": [
    "from astroplan.plots import plot_sky\n",
    "from astropy.time import Time"
   ]
  },
  {
   "cell_type": "code",
   "execution_count": null,
   "metadata": {},
   "outputs": [],
   "source": [
    "_=plot_sky(target=landolt_coords, observer=CTO, time=Time('2021-04-11 18:00:00'))\n",
    "_=plot_sky(target=landolt_coords, observer=CTO, time=Time('2021-04-11 20:00:00'))\n",
    "_=plot_sky(target=landolt_coords, observer=CTO, time=Time('2021-04-11 22:00:00'))\n",
    "_=plt.title(\"Sky Plot relative to CTO at 1800, 2000, and 2200 on April 11\")"
   ]
  },
  {
   "cell_type": "markdown",
   "metadata": {},
   "source": [
    "There are a lot of targets that go straight overhead!  There aren't so many in the South, but that's because we picked a standard star catalog that is meant for the north; if we wanted stars further south, we could use [\"II/183A/table2\"](http://vizier.u-strasbg.fr/viz-bin/VizieR-3?-source=II/183A/table2) instead.\n",
    "\n",
    "To find these table IDs, you can just search on Vizier for the name \"Landolt standards\"."
   ]
  },
  {
   "cell_type": "markdown",
   "metadata": {},
   "source": [
    "Let's say we want to observe P Cygni.  How do we find the closest standard(s)?"
   ]
  },
  {
   "cell_type": "markdown",
   "metadata": {},
   "source": [
    "First, we can simply overplot it on our RA/Dec plot"
   ]
  },
  {
   "cell_type": "code",
   "execution_count": null,
   "metadata": {},
   "outputs": [],
   "source": [
    "pcyg_coord = coordinates.SkyCoord.from_name('P Cygni')"
   ]
  },
  {
   "cell_type": "code",
   "execution_count": null,
   "metadata": {},
   "outputs": [],
   "source": [
    "_=plt.plot(landolt_coords.ra, landolt_coords.dec, 'o')\n",
    "_=plt.plot(pcyg_coord.ra, pcyg_coord.dec, 's')\n",
    "_=plt.xlabel(\"RA\")\n",
    "_=plt.ylabel(\"Dec\")\n",
    "_=plt.title(\"Sky locations of Landolt standard stars (North) + P Cyg\")"
   ]
  },
  {
   "cell_type": "markdown",
   "metadata": {},
   "source": [
    "## Find closest calibrator\n",
    "\n",
    "[Index](#Index)"
   ]
  },
  {
   "cell_type": "markdown",
   "metadata": {},
   "source": [
    "How can we figure out which calibrator source from the catalog is the closest one?\n",
    "\n",
    "We can calculate the distance between P Cygni and each of the stars in the Landolt catalog.  That distance is the _angular separation_ on the sphere:\n",
    "$$\\theta = \\cos^{-1} \\left[ \\sin(\\delta_1) \\sin(\\delta_2) + \\cos(\\delta_1) \\cos(\\delta_2) \\cos(\\alpha_1 - \\alpha_2) \\right]$$\n",
    "\n",
    "In practice, you don't want to do this yourself, as there can be numerical issues when calculating these values near the poles (see the article on [Great Circle distances](https://en.wikipedia.org/wiki/Great-circle_distance)).  Thankfully, astropy's coordinates provide a `separation` tool to calculate this for us.\n",
    "\n"
   ]
  },
  {
   "cell_type": "code",
   "execution_count": null,
   "metadata": {},
   "outputs": [],
   "source": [
    "distances_from_pcyg_to_standards = pcyg_coord.separation(landolt_coords)"
   ]
  },
  {
   "cell_type": "markdown",
   "metadata": {},
   "source": [
    "We can then find which of these is closest by taking the minimum:"
   ]
  },
  {
   "cell_type": "code",
   "execution_count": null,
   "metadata": {},
   "outputs": [],
   "source": [
    "np.min(distances_from_pcyg_to_standards)"
   ]
  },
  {
   "cell_type": "markdown",
   "metadata": {},
   "source": [
    "The closest standard star is about 2 degrees away.  Which star is it, though?  We can use `np.argmin` to obtain the index corresponding to that minimum value."
   ]
  },
  {
   "cell_type": "code",
   "execution_count": null,
   "metadata": {},
   "outputs": [],
   "source": [
    "index = np.argmin(distances_from_pcyg_to_standards)\n",
    "index, landolt_coords[index]"
   ]
  },
  {
   "cell_type": "markdown",
   "metadata": {},
   "source": [
    "So now we have its location.  Can we find out more about the star, like its name and brightness?\n",
    "\n",
    "Since `landolt_coords` has the same length and order as the `landolt_table` above, yes!  We can use the same index:"
   ]
  },
  {
   "cell_type": "code",
   "execution_count": null,
   "metadata": {},
   "outputs": [],
   "source": [
    "landolt_tbl[index]"
   ]
  },
  {
   "cell_type": "markdown",
   "metadata": {},
   "source": [
    "Great!  We've found our standard star, and we know it has a visual magnitude $V_{mag} = 12.5$!"
   ]
  },
  {
   "cell_type": "code",
   "execution_count": null,
   "metadata": {},
   "outputs": [],
   "source": [
    "print(\"V Magnitude of standard star: \",landolt_tbl[index]['__Vmag_'])"
   ]
  },
  {
   "cell_type": "markdown",
   "metadata": {},
   "source": [
    "We can also determine its magnitude in the B and R bands using the colors in the table.  Note that the titles of the columns tell you what they contain: except for the V-band, the columns show _colors_, i.e., delta-magnitudes.  The `B-V` column is the `B-V` color.  If you want to obtain the B color, you just do `B-V + V = B`.  "
   ]
  },
  {
   "cell_type": "code",
   "execution_count": null,
   "metadata": {},
   "outputs": [],
   "source": [
    "print(\"B Magnitude of standard star: \",landolt_tbl[index]['__Vmag_'] + landolt_tbl[index]['__B-V_'])\n",
    "print(\"R Magnitude of standard star: \",landolt_tbl[index]['__Vmag_'] - landolt_tbl[index]['__V-R_'])"
   ]
  },
  {
   "cell_type": "markdown",
   "metadata": {},
   "source": [
    "Now that we've selected this star, we need to go back through and do the same planning exercises for it as for the targets:\n",
    "\n",
    "1. Where is my calibrator?  (we answered this a few cells ago)\n",
    "2. When can I observe my calibrator? (the same time as my target!)\n",
    "3. How do I know when I've found my calibrator? (make a finder chart)\n",
    "4. How long do I need to observe?\n",
    "\n",
    "## Finder Chart for Calibrator\n",
    "[Index](#Index)\n",
    "\n",
    "Since we've done (1) and (2), let's do (3) and (4):"
   ]
  },
  {
   "cell_type": "markdown",
   "metadata": {},
   "source": [
    "Recall how you made finder charts from Observation Planning Exercise 1:"
   ]
  },
  {
   "cell_type": "code",
   "execution_count": null,
   "metadata": {},
   "outputs": [],
   "source": [
    "from astroplan.plots import plot_finder_image\n",
    "ax, hdu = plot_finder_image(landolt_coords[index], survey='DSS', fov_radius=15*u.arcmin, grid=False, reticle=True)"
   ]
  },
  {
   "cell_type": "markdown",
   "metadata": {},
   "source": [
    "If you've been on an observing run, you know that these finder charts are hard to use, and sometimes it's better to show them more saturated.  You can do that by specifying `style_kwargs`:"
   ]
  },
  {
   "cell_type": "code",
   "execution_count": null,
   "metadata": {},
   "outputs": [],
   "source": [
    "ax, hdu = plot_finder_image(landolt_coords[index],\n",
    "                            survey='DSS',\n",
    "                            fov_radius=15*u.arcmin, grid=False, reticle=True,\n",
    "                            style_kwargs={'vmin':18000, 'vmax':18100})"
   ]
  },
  {
   "cell_type": "markdown",
   "metadata": {},
   "source": [
    "You can also change the colorscale if you want something that looks a little more like the night sky:"
   ]
  },
  {
   "cell_type": "code",
   "execution_count": null,
   "metadata": {},
   "outputs": [],
   "source": [
    "ax, hdu = plot_finder_image(landolt_coords[index], survey='DSS',\n",
    "                            fov_radius=15*u.arcmin, grid=False,\n",
    "                            reticle=True, style_kwargs={'vmin':18000, 'vmax':18100, 'cmap':'gray'})"
   ]
  },
  {
   "cell_type": "markdown",
   "metadata": {},
   "source": [
    "## Exposure time for calibrator\n",
    "\n",
    "[Index](#Index)"
   ]
  },
  {
   "cell_type": "markdown",
   "metadata": {},
   "source": [
    "How long do we need to observe?  We use the same technique as Observation Planning Exercise 2.\n",
    "\n",
    "The zero points are:\n",
    "* [3600 Jy for V-band](http://svo2.cab.inta-csic.es/theory/fps/index.php?id=Generic/Bessell.V&&mode=browse&gname=Generic&gname2=Bessell#filter)\n",
    "* [4000 Jy for B-band](http://svo2.cab.inta-csic.es/theory/fps/index.php?id=Generic/Bessell.B&&mode=browse&gname=Generic&gname2=Bessell#filter)\n",
    "* [2400 Jy for I-band](http://svo2.cab.inta-csic.es/theory/fps/index.php?id=Generic/Bessell.I&&mode=browse&gname=Generic&gname2=Bessell#filter)"
   ]
  },
  {
   "cell_type": "code",
   "execution_count": null,
   "metadata": {},
   "outputs": [],
   "source": [
    "standard_star_vmag = landolt_tbl[index]['__Vmag_']\n",
    "vmag_zeropoint = 3600*u.Jy\n",
    "snu_standard = vmag_zeropoint * (10**(-standard_star_vmag/2.5))\n",
    "standard_star_vmag, snu_standard"
   ]
  },
  {
   "cell_type": "markdown",
   "metadata": {},
   "source": [
    "Using the telescope area and the filter properties, we now determine how much energy we receive from the star (which we calculated in the previous notebook):\n",
    "\n",
    "* The V filter has a central wavelength of 5504 Angstroms\n",
    "* The V filter has a width of \"about\" 1000 Angstroms (for [this filter](http://svo2.cab.inta-csic.es/theory/fps/index.php?id=Generic/Bessell.V&&mode=browse&gname=Generic&gname2=Bessell#filter), the width is 893 Angstroms, but we'll stick with the order-of-magnitude approximation for now)\n",
    "* We are calculating the area of a 14-inch telescope"
   ]
  },
  {
   "cell_type": "code",
   "execution_count": null,
   "metadata": {},
   "outputs": [],
   "source": [
    "v_filt_wav = 5504*u.AA\n",
    "v_filt_freq = (v_filt_wav).to(u.Hz, u.spectral())\n",
    "v_filter_width = 1000*u.AA\n",
    "A_CTO = (np.pi*(14/2 * u.imperial.inch)**2).to(u.cm**2)\n",
    "standard_ergs_per_s = snu_standard * A_CTO * v_filt_freq*(v_filter_width/v_filt_wav)\n",
    "standard_ergs_per_s.to(u.erg/u.s)"
   ]
  },
  {
   "cell_type": "code",
   "execution_count": null,
   "metadata": {},
   "outputs": [],
   "source": [
    "from astropy import constants"
   ]
  },
  {
   "cell_type": "markdown",
   "metadata": {},
   "source": [
    "As before, we want to know the _number of photons_ we will receive per second, so we convert the above energy to a photon rate."
   ]
  },
  {
   "cell_type": "code",
   "execution_count": null,
   "metadata": {},
   "outputs": [],
   "source": [
    "standard_phot_per_s = (standard_ergs_per_s / (constants.h * v_filt_freq)).decompose()\n",
    "standard_phot_per_s"
   ]
  },
  {
   "cell_type": "markdown",
   "metadata": {},
   "source": [
    "Then, we want to account for the inefficiences in our telescope: the average filter efficiency, the CCD's quantum efficiency, and the loss from atmospheric absorption (noting, of course, that the atmospheric loss is calculated for zenith, so it could be worse than this!)"
   ]
  },
  {
   "cell_type": "code",
   "execution_count": null,
   "metadata": {},
   "outputs": [],
   "source": [
    "filter_efficiency = 0.75\n",
    "quantum_efficiency = 0.7\n",
    "atmosphere_loss = 0.2\n",
    "received_fraction = filter_efficiency * quantum_efficiency * (1-atmosphere_loss)\n",
    "received_fraction"
   ]
  },
  {
   "cell_type": "markdown",
   "metadata": {},
   "source": [
    "As before, we need to determine how much our signal will be spread out.  We use the same $\\sigma=2\"$ PSF and $0.5\"$ pixel scale"
   ]
  },
  {
   "cell_type": "code",
   "execution_count": null,
   "metadata": {},
   "outputs": [],
   "source": [
    "psf_area = 2 * np.pi * (2*u.arcsec)**2\n",
    "psf_area"
   ]
  },
  {
   "cell_type": "code",
   "execution_count": null,
   "metadata": {},
   "outputs": [],
   "source": [
    "pixel_scale = 0.5*u.arcsec/u.pixel\n",
    "psf_area_pixels = psf_area * pixel_scale**-2\n",
    "psf_area_pixels"
   ]
  },
  {
   "cell_type": "code",
   "execution_count": null,
   "metadata": {},
   "outputs": [],
   "source": [
    "count_rate_per_pixel = standard_phot_per_s / psf_area_pixels * received_fraction\n",
    "count_rate_per_pixel"
   ]
  },
  {
   "cell_type": "markdown",
   "metadata": {},
   "source": [
    "We want our signal-to-noise ratio to be at least as good as our target, ideally better, since we will be comparing these measurements (taking their difference) and therefore their noise will add in quadrature again.  We can set a target SNR = 100 as before\n"
   ]
  },
  {
   "cell_type": "markdown",
   "metadata": {},
   "source": [
    "Recall that the readnoise on the sum is the square root of the sum of the individual pixel read noise:\n",
    "\n",
    "$$ \\sigma_{RN,sum}^2 = \\Sigma_i \\sigma_{RN,i}^2 = N \\sigma_{RN}^2$$\n",
    "$$ \\sigma_{RN,sum} = \\sqrt{N}  \\cdot \\sigma_{RN}$$"
   ]
  },
  {
   "cell_type": "code",
   "execution_count": null,
   "metadata": {},
   "outputs": [],
   "source": [
    "readnoise_per_pix = 10*u.adu/u.pix\n",
    "readnoise_sum = psf_area_pixels**0.5 * readnoise_per_pix\n",
    "readnoise_sum"
   ]
  },
  {
   "cell_type": "markdown",
   "metadata": {},
   "source": [
    "Recall the equation (from Observation Planning Part 2) for the target signal as a function of SNR:\n",
    "\n",
    "$$S = SNR^2 \\pm \\frac{\\sqrt{SNR^4 + 4 \\sigma_{RN}^2 SNR^2}}{2}$$"
   ]
  },
  {
   "cell_type": "code",
   "execution_count": null,
   "metadata": {},
   "outputs": [],
   "source": [
    "SNR = 100\n",
    "target_signal = SNR**2 + (SNR**4 + 4*readnoise_sum.value**2*SNR**2)**0.5 / 2\n",
    "target_signal"
   ]
  },
  {
   "cell_type": "code",
   "execution_count": null,
   "metadata": {},
   "outputs": [],
   "source": [
    "integration_time_including_readnoise = target_signal / standard_phot_per_s / received_fraction\n",
    "integration_time_including_readnoise"
   ]
  },
  {
   "cell_type": "markdown",
   "metadata": {},
   "source": [
    "# Exercise\n",
    "\n",
    "[Index](#Index)"
   ]
  },
  {
   "cell_type": "markdown",
   "metadata": {},
   "source": [
    "Repeat this exercise below for:\n",
    "\n",
    "* (1) the B and R filters.  How long do you need to expose the standard star in each of those filters to get to SNR = 100?\n",
    "* (2) A standard star near your target.  Use one of the targets we observed (e.g., M13 or M57).\n"
   ]
  },
  {
   "cell_type": "markdown",
   "metadata": {},
   "source": [
    "Note that for most of this exercise, you don't need to re-calculate much of the above.  Think about which items you do need to re-calculate.  Answer these questions before you do the exercise.\n",
    "\n",
    "Do you need to recalculate or re-enter:\n",
    "\n",
    "* The star's magnitude? Yes\n",
    "* The star's spectral flux density?  Flux density?\n",
    "* The star's count rate?\n",
    "* The PSF area?\n",
    "* The total readnoise?\n",
    "* The telescope area?\n",
    "* The filter center?\n",
    "* The filter width?\n",
    "* The goal SNR?\n",
    "* The target signal for the goal SNR?\n",
    "* The goal integration time?\n",
    "* The star location?\n",
    "\n",
    "\n",
    "Answer each of the above with a \"Yes\" or \"No\".  The first is answered \"Yes\" for you - we're looking at a different filter for part (1) and a different target for part (2), so you definitely need to have a different value for the magnitude."
   ]
  },
  {
   "cell_type": "markdown",
   "metadata": {},
   "source": [
    "Then, in new cells below here, complete the exercise:"
   ]
  },
  {
   "cell_type": "code",
   "execution_count": null,
   "metadata": {},
   "outputs": [],
   "source": []
  }
 ],
 "metadata": {
  "kernelspec": {
   "display_name": "Python 3",
   "language": "python",
   "name": "python3"
  },
  "language_info": {
   "codemirror_mode": {
    "name": "ipython",
    "version": 3
   },
   "file_extension": ".py",
   "mimetype": "text/x-python",
   "name": "python",
   "nbconvert_exporter": "python",
   "pygments_lexer": "ipython3",
   "version": "3.7.3"
  }
 },
 "nbformat": 4,
 "nbformat_minor": 4
}
